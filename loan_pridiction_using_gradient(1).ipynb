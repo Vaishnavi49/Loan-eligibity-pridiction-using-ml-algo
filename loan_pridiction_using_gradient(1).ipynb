{
 "cells": [
  {
   "cell_type": "markdown",
   "id": "af9dbbcf",
   "metadata": {},
   "source": [
    "# 1. DATA COLLECTION"
   ]
  },
  {
   "cell_type": "code",
   "execution_count": 1,
   "id": "ae775834",
   "metadata": {},
   "outputs": [
    {
     "data": {
      "text/html": [
       "<div>\n",
       "<style scoped>\n",
       "    .dataframe tbody tr th:only-of-type {\n",
       "        vertical-align: middle;\n",
       "    }\n",
       "\n",
       "    .dataframe tbody tr th {\n",
       "        vertical-align: top;\n",
       "    }\n",
       "\n",
       "    .dataframe thead th {\n",
       "        text-align: right;\n",
       "    }\n",
       "</style>\n",
       "<table border=\"1\" class=\"dataframe\">\n",
       "  <thead>\n",
       "    <tr style=\"text-align: right;\">\n",
       "      <th></th>\n",
       "      <th>Gender</th>\n",
       "      <th>Married</th>\n",
       "      <th>Dependents</th>\n",
       "      <th>Education</th>\n",
       "      <th>Self_Employed</th>\n",
       "      <th>Applicant_Income</th>\n",
       "      <th>Coapplicant_Income</th>\n",
       "      <th>Loan_Amount</th>\n",
       "      <th>Term</th>\n",
       "      <th>Credit_History</th>\n",
       "      <th>Area</th>\n",
       "      <th>Status</th>\n",
       "    </tr>\n",
       "  </thead>\n",
       "  <tbody>\n",
       "    <tr>\n",
       "      <th>0</th>\n",
       "      <td>Male</td>\n",
       "      <td>No</td>\n",
       "      <td>0</td>\n",
       "      <td>Graduate</td>\n",
       "      <td>No</td>\n",
       "      <td>584900</td>\n",
       "      <td>0.0</td>\n",
       "      <td>15000000</td>\n",
       "      <td>360.0</td>\n",
       "      <td>1.0</td>\n",
       "      <td>Urban</td>\n",
       "      <td>Y</td>\n",
       "    </tr>\n",
       "    <tr>\n",
       "      <th>1</th>\n",
       "      <td>Male</td>\n",
       "      <td>Yes</td>\n",
       "      <td>1</td>\n",
       "      <td>Graduate</td>\n",
       "      <td>No</td>\n",
       "      <td>458300</td>\n",
       "      <td>150800.0</td>\n",
       "      <td>12800000</td>\n",
       "      <td>360.0</td>\n",
       "      <td>1.0</td>\n",
       "      <td>Rural</td>\n",
       "      <td>N</td>\n",
       "    </tr>\n",
       "    <tr>\n",
       "      <th>2</th>\n",
       "      <td>Male</td>\n",
       "      <td>Yes</td>\n",
       "      <td>0</td>\n",
       "      <td>Graduate</td>\n",
       "      <td>Yes</td>\n",
       "      <td>300000</td>\n",
       "      <td>0.0</td>\n",
       "      <td>6600000</td>\n",
       "      <td>360.0</td>\n",
       "      <td>1.0</td>\n",
       "      <td>Urban</td>\n",
       "      <td>Y</td>\n",
       "    </tr>\n",
       "    <tr>\n",
       "      <th>3</th>\n",
       "      <td>Male</td>\n",
       "      <td>Yes</td>\n",
       "      <td>0</td>\n",
       "      <td>Not Graduate</td>\n",
       "      <td>No</td>\n",
       "      <td>258300</td>\n",
       "      <td>235800.0</td>\n",
       "      <td>12000000</td>\n",
       "      <td>360.0</td>\n",
       "      <td>1.0</td>\n",
       "      <td>Urban</td>\n",
       "      <td>Y</td>\n",
       "    </tr>\n",
       "    <tr>\n",
       "      <th>4</th>\n",
       "      <td>Male</td>\n",
       "      <td>No</td>\n",
       "      <td>0</td>\n",
       "      <td>Graduate</td>\n",
       "      <td>No</td>\n",
       "      <td>600000</td>\n",
       "      <td>0.0</td>\n",
       "      <td>14100000</td>\n",
       "      <td>360.0</td>\n",
       "      <td>1.0</td>\n",
       "      <td>Urban</td>\n",
       "      <td>Y</td>\n",
       "    </tr>\n",
       "    <tr>\n",
       "      <th>...</th>\n",
       "      <td>...</td>\n",
       "      <td>...</td>\n",
       "      <td>...</td>\n",
       "      <td>...</td>\n",
       "      <td>...</td>\n",
       "      <td>...</td>\n",
       "      <td>...</td>\n",
       "      <td>...</td>\n",
       "      <td>...</td>\n",
       "      <td>...</td>\n",
       "      <td>...</td>\n",
       "      <td>...</td>\n",
       "    </tr>\n",
       "    <tr>\n",
       "      <th>609</th>\n",
       "      <td>Female</td>\n",
       "      <td>No</td>\n",
       "      <td>0</td>\n",
       "      <td>Graduate</td>\n",
       "      <td>No</td>\n",
       "      <td>290000</td>\n",
       "      <td>0.0</td>\n",
       "      <td>7100000</td>\n",
       "      <td>360.0</td>\n",
       "      <td>1.0</td>\n",
       "      <td>Rural</td>\n",
       "      <td>Y</td>\n",
       "    </tr>\n",
       "    <tr>\n",
       "      <th>610</th>\n",
       "      <td>Male</td>\n",
       "      <td>Yes</td>\n",
       "      <td>3+</td>\n",
       "      <td>Graduate</td>\n",
       "      <td>No</td>\n",
       "      <td>410600</td>\n",
       "      <td>0.0</td>\n",
       "      <td>4000000</td>\n",
       "      <td>180.0</td>\n",
       "      <td>1.0</td>\n",
       "      <td>Rural</td>\n",
       "      <td>Y</td>\n",
       "    </tr>\n",
       "    <tr>\n",
       "      <th>611</th>\n",
       "      <td>Male</td>\n",
       "      <td>Yes</td>\n",
       "      <td>1</td>\n",
       "      <td>Graduate</td>\n",
       "      <td>No</td>\n",
       "      <td>807200</td>\n",
       "      <td>24000.0</td>\n",
       "      <td>25300000</td>\n",
       "      <td>360.0</td>\n",
       "      <td>1.0</td>\n",
       "      <td>Urban</td>\n",
       "      <td>Y</td>\n",
       "    </tr>\n",
       "    <tr>\n",
       "      <th>612</th>\n",
       "      <td>Male</td>\n",
       "      <td>Yes</td>\n",
       "      <td>2</td>\n",
       "      <td>Graduate</td>\n",
       "      <td>No</td>\n",
       "      <td>758300</td>\n",
       "      <td>0.0</td>\n",
       "      <td>18700000</td>\n",
       "      <td>360.0</td>\n",
       "      <td>1.0</td>\n",
       "      <td>Urban</td>\n",
       "      <td>Y</td>\n",
       "    </tr>\n",
       "    <tr>\n",
       "      <th>613</th>\n",
       "      <td>Female</td>\n",
       "      <td>No</td>\n",
       "      <td>0</td>\n",
       "      <td>Graduate</td>\n",
       "      <td>Yes</td>\n",
       "      <td>458300</td>\n",
       "      <td>0.0</td>\n",
       "      <td>13300000</td>\n",
       "      <td>360.0</td>\n",
       "      <td>0.0</td>\n",
       "      <td>Semiurban</td>\n",
       "      <td>N</td>\n",
       "    </tr>\n",
       "  </tbody>\n",
       "</table>\n",
       "<p>614 rows × 12 columns</p>\n",
       "</div>"
      ],
      "text/plain": [
       "     Gender Married Dependents     Education Self_Employed  Applicant_Income  \\\n",
       "0      Male      No          0      Graduate            No            584900   \n",
       "1      Male     Yes          1      Graduate            No            458300   \n",
       "2      Male     Yes          0      Graduate           Yes            300000   \n",
       "3      Male     Yes          0  Not Graduate            No            258300   \n",
       "4      Male      No          0      Graduate            No            600000   \n",
       "..      ...     ...        ...           ...           ...               ...   \n",
       "609  Female      No          0      Graduate            No            290000   \n",
       "610    Male     Yes         3+      Graduate            No            410600   \n",
       "611    Male     Yes          1      Graduate            No            807200   \n",
       "612    Male     Yes          2      Graduate            No            758300   \n",
       "613  Female      No          0      Graduate           Yes            458300   \n",
       "\n",
       "     Coapplicant_Income  Loan_Amount   Term  Credit_History       Area Status  \n",
       "0                   0.0     15000000  360.0             1.0      Urban      Y  \n",
       "1              150800.0     12800000  360.0             1.0      Rural      N  \n",
       "2                   0.0      6600000  360.0             1.0      Urban      Y  \n",
       "3              235800.0     12000000  360.0             1.0      Urban      Y  \n",
       "4                   0.0     14100000  360.0             1.0      Urban      Y  \n",
       "..                  ...          ...    ...             ...        ...    ...  \n",
       "609                 0.0      7100000  360.0             1.0      Rural      Y  \n",
       "610                 0.0      4000000  180.0             1.0      Rural      Y  \n",
       "611             24000.0     25300000  360.0             1.0      Urban      Y  \n",
       "612                 0.0     18700000  360.0             1.0      Urban      Y  \n",
       "613                 0.0     13300000  360.0             0.0  Semiurban      N  \n",
       "\n",
       "[614 rows x 12 columns]"
      ]
     },
     "execution_count": 1,
     "metadata": {},
     "output_type": "execute_result"
    }
   ],
   "source": [
    "import pandas as pd\n",
    "import numpy as np\n",
    "data = pd.read_csv(\"/Users/vaishnavikhot/Downloads/archive-2/loan_train.csv\")\n",
    "data"
   ]
  },
  {
   "cell_type": "markdown",
   "id": "8c4f8f46",
   "metadata": {},
   "source": [
    "# 2. DATA PREPROCESSING"
   ]
  },
  {
   "cell_type": "markdown",
   "id": "8ca84997",
   "metadata": {},
   "source": [
    "## 2a. BASIC EDA"
   ]
  },
  {
   "cell_type": "code",
   "execution_count": 2,
   "id": "f379e0ae",
   "metadata": {},
   "outputs": [
    {
     "data": {
      "text/plain": [
       "(614, 12)"
      ]
     },
     "execution_count": 2,
     "metadata": {},
     "output_type": "execute_result"
    }
   ],
   "source": [
    "data.shape"
   ]
  },
  {
   "cell_type": "code",
   "execution_count": 3,
   "id": "e90b63bc",
   "metadata": {},
   "outputs": [
    {
     "data": {
      "text/plain": [
       "7368"
      ]
     },
     "execution_count": 3,
     "metadata": {},
     "output_type": "execute_result"
    }
   ],
   "source": [
    "data.size"
   ]
  },
  {
   "cell_type": "code",
   "execution_count": 4,
   "id": "bb85e9a8",
   "metadata": {},
   "outputs": [
    {
     "data": {
      "text/plain": [
       "2"
      ]
     },
     "execution_count": 4,
     "metadata": {},
     "output_type": "execute_result"
    }
   ],
   "source": [
    "data.ndim"
   ]
  },
  {
   "cell_type": "code",
   "execution_count": 5,
   "id": "18793f4c",
   "metadata": {},
   "outputs": [
    {
     "data": {
      "text/plain": [
       "Index(['Gender', 'Married', 'Dependents', 'Education', 'Self_Employed',\n",
       "       'Applicant_Income', 'Coapplicant_Income', 'Loan_Amount', 'Term',\n",
       "       'Credit_History', 'Area', 'Status'],\n",
       "      dtype='object')"
      ]
     },
     "execution_count": 5,
     "metadata": {},
     "output_type": "execute_result"
    }
   ],
   "source": [
    "data.columns"
   ]
  },
  {
   "cell_type": "code",
   "execution_count": 6,
   "id": "1573a7eb",
   "metadata": {},
   "outputs": [
    {
     "data": {
      "text/plain": [
       "Index(['Gender', 'Married', 'Dependents', 'Self_Employed', 'Term',\n",
       "       'Credit_History'],\n",
       "      dtype='object')"
      ]
     },
     "execution_count": 6,
     "metadata": {},
     "output_type": "execute_result"
    }
   ],
   "source": [
    "data.columns[data.isna().any()]"
   ]
  },
  {
   "cell_type": "code",
   "execution_count": 7,
   "id": "3bc52271",
   "metadata": {},
   "outputs": [
    {
     "name": "stdout",
     "output_type": "stream",
     "text": [
      "<class 'pandas.core.frame.DataFrame'>\n",
      "RangeIndex: 614 entries, 0 to 613\n",
      "Data columns (total 12 columns):\n",
      " #   Column              Non-Null Count  Dtype  \n",
      "---  ------              --------------  -----  \n",
      " 0   Gender              601 non-null    object \n",
      " 1   Married             611 non-null    object \n",
      " 2   Dependents          599 non-null    object \n",
      " 3   Education           614 non-null    object \n",
      " 4   Self_Employed       582 non-null    object \n",
      " 5   Applicant_Income    614 non-null    int64  \n",
      " 6   Coapplicant_Income  614 non-null    float64\n",
      " 7   Loan_Amount         614 non-null    int64  \n",
      " 8   Term                600 non-null    float64\n",
      " 9   Credit_History      564 non-null    float64\n",
      " 10  Area                614 non-null    object \n",
      " 11  Status              614 non-null    object \n",
      "dtypes: float64(3), int64(2), object(7)\n",
      "memory usage: 57.7+ KB\n"
     ]
    }
   ],
   "source": [
    "data.info()"
   ]
  },
  {
   "cell_type": "code",
   "execution_count": 8,
   "id": "d3aae286",
   "metadata": {},
   "outputs": [
    {
     "data": {
      "text/html": [
       "<div>\n",
       "<style scoped>\n",
       "    .dataframe tbody tr th:only-of-type {\n",
       "        vertical-align: middle;\n",
       "    }\n",
       "\n",
       "    .dataframe tbody tr th {\n",
       "        vertical-align: top;\n",
       "    }\n",
       "\n",
       "    .dataframe thead th {\n",
       "        text-align: right;\n",
       "    }\n",
       "</style>\n",
       "<table border=\"1\" class=\"dataframe\">\n",
       "  <thead>\n",
       "    <tr style=\"text-align: right;\">\n",
       "      <th></th>\n",
       "      <th>Applicant_Income</th>\n",
       "      <th>Coapplicant_Income</th>\n",
       "      <th>Loan_Amount</th>\n",
       "      <th>Term</th>\n",
       "      <th>Credit_History</th>\n",
       "    </tr>\n",
       "  </thead>\n",
       "  <tbody>\n",
       "    <tr>\n",
       "      <th>count</th>\n",
       "      <td>6.140000e+02</td>\n",
       "      <td>6.140000e+02</td>\n",
       "      <td>6.140000e+02</td>\n",
       "      <td>600.00000</td>\n",
       "      <td>564.000000</td>\n",
       "    </tr>\n",
       "    <tr>\n",
       "      <th>mean</th>\n",
       "      <td>5.403459e+05</td>\n",
       "      <td>1.621246e+05</td>\n",
       "      <td>1.414104e+07</td>\n",
       "      <td>342.00000</td>\n",
       "      <td>0.842199</td>\n",
       "    </tr>\n",
       "    <tr>\n",
       "      <th>std</th>\n",
       "      <td>6.109042e+05</td>\n",
       "      <td>2.926248e+05</td>\n",
       "      <td>8.815682e+06</td>\n",
       "      <td>65.12041</td>\n",
       "      <td>0.364878</td>\n",
       "    </tr>\n",
       "    <tr>\n",
       "      <th>min</th>\n",
       "      <td>1.500000e+04</td>\n",
       "      <td>0.000000e+00</td>\n",
       "      <td>0.000000e+00</td>\n",
       "      <td>12.00000</td>\n",
       "      <td>0.000000</td>\n",
       "    </tr>\n",
       "    <tr>\n",
       "      <th>25%</th>\n",
       "      <td>2.877500e+05</td>\n",
       "      <td>0.000000e+00</td>\n",
       "      <td>9.800000e+06</td>\n",
       "      <td>360.00000</td>\n",
       "      <td>1.000000</td>\n",
       "    </tr>\n",
       "    <tr>\n",
       "      <th>50%</th>\n",
       "      <td>3.812500e+05</td>\n",
       "      <td>1.188500e+05</td>\n",
       "      <td>1.250000e+07</td>\n",
       "      <td>360.00000</td>\n",
       "      <td>1.000000</td>\n",
       "    </tr>\n",
       "    <tr>\n",
       "      <th>75%</th>\n",
       "      <td>5.795000e+05</td>\n",
       "      <td>2.297250e+05</td>\n",
       "      <td>1.647500e+07</td>\n",
       "      <td>360.00000</td>\n",
       "      <td>1.000000</td>\n",
       "    </tr>\n",
       "    <tr>\n",
       "      <th>max</th>\n",
       "      <td>8.100000e+06</td>\n",
       "      <td>4.166700e+06</td>\n",
       "      <td>7.000000e+07</td>\n",
       "      <td>480.00000</td>\n",
       "      <td>1.000000</td>\n",
       "    </tr>\n",
       "  </tbody>\n",
       "</table>\n",
       "</div>"
      ],
      "text/plain": [
       "       Applicant_Income  Coapplicant_Income   Loan_Amount       Term  \\\n",
       "count      6.140000e+02        6.140000e+02  6.140000e+02  600.00000   \n",
       "mean       5.403459e+05        1.621246e+05  1.414104e+07  342.00000   \n",
       "std        6.109042e+05        2.926248e+05  8.815682e+06   65.12041   \n",
       "min        1.500000e+04        0.000000e+00  0.000000e+00   12.00000   \n",
       "25%        2.877500e+05        0.000000e+00  9.800000e+06  360.00000   \n",
       "50%        3.812500e+05        1.188500e+05  1.250000e+07  360.00000   \n",
       "75%        5.795000e+05        2.297250e+05  1.647500e+07  360.00000   \n",
       "max        8.100000e+06        4.166700e+06  7.000000e+07  480.00000   \n",
       "\n",
       "       Credit_History  \n",
       "count      564.000000  \n",
       "mean         0.842199  \n",
       "std          0.364878  \n",
       "min          0.000000  \n",
       "25%          1.000000  \n",
       "50%          1.000000  \n",
       "75%          1.000000  \n",
       "max          1.000000  "
      ]
     },
     "execution_count": 8,
     "metadata": {},
     "output_type": "execute_result"
    }
   ],
   "source": [
    "data.describe()"
   ]
  },
  {
   "cell_type": "code",
   "execution_count": 9,
   "id": "25a63b3e",
   "metadata": {},
   "outputs": [
    {
     "data": {
      "text/plain": [
       "pandas.core.frame.DataFrame"
      ]
     },
     "execution_count": 9,
     "metadata": {},
     "output_type": "execute_result"
    }
   ],
   "source": [
    "type(data)"
   ]
  },
  {
   "cell_type": "code",
   "execution_count": 10,
   "id": "c93f28c2",
   "metadata": {},
   "outputs": [
    {
     "data": {
      "text/html": [
       "<div>\n",
       "<style scoped>\n",
       "    .dataframe tbody tr th:only-of-type {\n",
       "        vertical-align: middle;\n",
       "    }\n",
       "\n",
       "    .dataframe tbody tr th {\n",
       "        vertical-align: top;\n",
       "    }\n",
       "\n",
       "    .dataframe thead th {\n",
       "        text-align: right;\n",
       "    }\n",
       "</style>\n",
       "<table border=\"1\" class=\"dataframe\">\n",
       "  <thead>\n",
       "    <tr style=\"text-align: right;\">\n",
       "      <th></th>\n",
       "      <th>Gender</th>\n",
       "      <th>Married</th>\n",
       "      <th>Dependents</th>\n",
       "      <th>Education</th>\n",
       "      <th>Self_Employed</th>\n",
       "      <th>Applicant_Income</th>\n",
       "      <th>Coapplicant_Income</th>\n",
       "      <th>Loan_Amount</th>\n",
       "      <th>Term</th>\n",
       "      <th>Credit_History</th>\n",
       "      <th>Area</th>\n",
       "      <th>Status</th>\n",
       "    </tr>\n",
       "  </thead>\n",
       "  <tbody>\n",
       "    <tr>\n",
       "      <th>0</th>\n",
       "      <td>Male</td>\n",
       "      <td>No</td>\n",
       "      <td>0</td>\n",
       "      <td>Graduate</td>\n",
       "      <td>No</td>\n",
       "      <td>584900</td>\n",
       "      <td>0.0</td>\n",
       "      <td>15000000</td>\n",
       "      <td>360.0</td>\n",
       "      <td>1.0</td>\n",
       "      <td>Urban</td>\n",
       "      <td>Y</td>\n",
       "    </tr>\n",
       "    <tr>\n",
       "      <th>1</th>\n",
       "      <td>Male</td>\n",
       "      <td>Yes</td>\n",
       "      <td>1</td>\n",
       "      <td>Graduate</td>\n",
       "      <td>No</td>\n",
       "      <td>458300</td>\n",
       "      <td>150800.0</td>\n",
       "      <td>12800000</td>\n",
       "      <td>360.0</td>\n",
       "      <td>1.0</td>\n",
       "      <td>Rural</td>\n",
       "      <td>N</td>\n",
       "    </tr>\n",
       "    <tr>\n",
       "      <th>2</th>\n",
       "      <td>Male</td>\n",
       "      <td>Yes</td>\n",
       "      <td>0</td>\n",
       "      <td>Graduate</td>\n",
       "      <td>Yes</td>\n",
       "      <td>300000</td>\n",
       "      <td>0.0</td>\n",
       "      <td>6600000</td>\n",
       "      <td>360.0</td>\n",
       "      <td>1.0</td>\n",
       "      <td>Urban</td>\n",
       "      <td>Y</td>\n",
       "    </tr>\n",
       "    <tr>\n",
       "      <th>3</th>\n",
       "      <td>Male</td>\n",
       "      <td>Yes</td>\n",
       "      <td>0</td>\n",
       "      <td>Not Graduate</td>\n",
       "      <td>No</td>\n",
       "      <td>258300</td>\n",
       "      <td>235800.0</td>\n",
       "      <td>12000000</td>\n",
       "      <td>360.0</td>\n",
       "      <td>1.0</td>\n",
       "      <td>Urban</td>\n",
       "      <td>Y</td>\n",
       "    </tr>\n",
       "    <tr>\n",
       "      <th>4</th>\n",
       "      <td>Male</td>\n",
       "      <td>No</td>\n",
       "      <td>0</td>\n",
       "      <td>Graduate</td>\n",
       "      <td>No</td>\n",
       "      <td>600000</td>\n",
       "      <td>0.0</td>\n",
       "      <td>14100000</td>\n",
       "      <td>360.0</td>\n",
       "      <td>1.0</td>\n",
       "      <td>Urban</td>\n",
       "      <td>Y</td>\n",
       "    </tr>\n",
       "  </tbody>\n",
       "</table>\n",
       "</div>"
      ],
      "text/plain": [
       "  Gender Married Dependents     Education Self_Employed  Applicant_Income  \\\n",
       "0   Male      No          0      Graduate            No            584900   \n",
       "1   Male     Yes          1      Graduate            No            458300   \n",
       "2   Male     Yes          0      Graduate           Yes            300000   \n",
       "3   Male     Yes          0  Not Graduate            No            258300   \n",
       "4   Male      No          0      Graduate            No            600000   \n",
       "\n",
       "   Coapplicant_Income  Loan_Amount   Term  Credit_History   Area Status  \n",
       "0                 0.0     15000000  360.0             1.0  Urban      Y  \n",
       "1            150800.0     12800000  360.0             1.0  Rural      N  \n",
       "2                 0.0      6600000  360.0             1.0  Urban      Y  \n",
       "3            235800.0     12000000  360.0             1.0  Urban      Y  \n",
       "4                 0.0     14100000  360.0             1.0  Urban      Y  "
      ]
     },
     "execution_count": 10,
     "metadata": {},
     "output_type": "execute_result"
    }
   ],
   "source": [
    "data.head()"
   ]
  },
  {
   "cell_type": "code",
   "execution_count": 11,
   "id": "813370bd",
   "metadata": {},
   "outputs": [
    {
     "data": {
      "text/html": [
       "<div>\n",
       "<style scoped>\n",
       "    .dataframe tbody tr th:only-of-type {\n",
       "        vertical-align: middle;\n",
       "    }\n",
       "\n",
       "    .dataframe tbody tr th {\n",
       "        vertical-align: top;\n",
       "    }\n",
       "\n",
       "    .dataframe thead th {\n",
       "        text-align: right;\n",
       "    }\n",
       "</style>\n",
       "<table border=\"1\" class=\"dataframe\">\n",
       "  <thead>\n",
       "    <tr style=\"text-align: right;\">\n",
       "      <th></th>\n",
       "      <th>Gender</th>\n",
       "      <th>Married</th>\n",
       "      <th>Dependents</th>\n",
       "      <th>Education</th>\n",
       "      <th>Self_Employed</th>\n",
       "      <th>Applicant_Income</th>\n",
       "      <th>Coapplicant_Income</th>\n",
       "      <th>Loan_Amount</th>\n",
       "      <th>Term</th>\n",
       "      <th>Credit_History</th>\n",
       "      <th>Area</th>\n",
       "      <th>Status</th>\n",
       "    </tr>\n",
       "  </thead>\n",
       "  <tbody>\n",
       "    <tr>\n",
       "      <th>609</th>\n",
       "      <td>Female</td>\n",
       "      <td>No</td>\n",
       "      <td>0</td>\n",
       "      <td>Graduate</td>\n",
       "      <td>No</td>\n",
       "      <td>290000</td>\n",
       "      <td>0.0</td>\n",
       "      <td>7100000</td>\n",
       "      <td>360.0</td>\n",
       "      <td>1.0</td>\n",
       "      <td>Rural</td>\n",
       "      <td>Y</td>\n",
       "    </tr>\n",
       "    <tr>\n",
       "      <th>610</th>\n",
       "      <td>Male</td>\n",
       "      <td>Yes</td>\n",
       "      <td>3+</td>\n",
       "      <td>Graduate</td>\n",
       "      <td>No</td>\n",
       "      <td>410600</td>\n",
       "      <td>0.0</td>\n",
       "      <td>4000000</td>\n",
       "      <td>180.0</td>\n",
       "      <td>1.0</td>\n",
       "      <td>Rural</td>\n",
       "      <td>Y</td>\n",
       "    </tr>\n",
       "    <tr>\n",
       "      <th>611</th>\n",
       "      <td>Male</td>\n",
       "      <td>Yes</td>\n",
       "      <td>1</td>\n",
       "      <td>Graduate</td>\n",
       "      <td>No</td>\n",
       "      <td>807200</td>\n",
       "      <td>24000.0</td>\n",
       "      <td>25300000</td>\n",
       "      <td>360.0</td>\n",
       "      <td>1.0</td>\n",
       "      <td>Urban</td>\n",
       "      <td>Y</td>\n",
       "    </tr>\n",
       "    <tr>\n",
       "      <th>612</th>\n",
       "      <td>Male</td>\n",
       "      <td>Yes</td>\n",
       "      <td>2</td>\n",
       "      <td>Graduate</td>\n",
       "      <td>No</td>\n",
       "      <td>758300</td>\n",
       "      <td>0.0</td>\n",
       "      <td>18700000</td>\n",
       "      <td>360.0</td>\n",
       "      <td>1.0</td>\n",
       "      <td>Urban</td>\n",
       "      <td>Y</td>\n",
       "    </tr>\n",
       "    <tr>\n",
       "      <th>613</th>\n",
       "      <td>Female</td>\n",
       "      <td>No</td>\n",
       "      <td>0</td>\n",
       "      <td>Graduate</td>\n",
       "      <td>Yes</td>\n",
       "      <td>458300</td>\n",
       "      <td>0.0</td>\n",
       "      <td>13300000</td>\n",
       "      <td>360.0</td>\n",
       "      <td>0.0</td>\n",
       "      <td>Semiurban</td>\n",
       "      <td>N</td>\n",
       "    </tr>\n",
       "  </tbody>\n",
       "</table>\n",
       "</div>"
      ],
      "text/plain": [
       "     Gender Married Dependents Education Self_Employed  Applicant_Income  \\\n",
       "609  Female      No          0  Graduate            No            290000   \n",
       "610    Male     Yes         3+  Graduate            No            410600   \n",
       "611    Male     Yes          1  Graduate            No            807200   \n",
       "612    Male     Yes          2  Graduate            No            758300   \n",
       "613  Female      No          0  Graduate           Yes            458300   \n",
       "\n",
       "     Coapplicant_Income  Loan_Amount   Term  Credit_History       Area Status  \n",
       "609                 0.0      7100000  360.0             1.0      Rural      Y  \n",
       "610                 0.0      4000000  180.0             1.0      Rural      Y  \n",
       "611             24000.0     25300000  360.0             1.0      Urban      Y  \n",
       "612                 0.0     18700000  360.0             1.0      Urban      Y  \n",
       "613                 0.0     13300000  360.0             0.0  Semiurban      N  "
      ]
     },
     "execution_count": 11,
     "metadata": {},
     "output_type": "execute_result"
    }
   ],
   "source": [
    "data.tail()"
   ]
  },
  {
   "cell_type": "markdown",
   "id": "7e6bf09f",
   "metadata": {},
   "source": [
    "### REPLACING NaN VALUE WITH MEAN() AND MODE()"
   ]
  },
  {
   "cell_type": "code",
   "execution_count": 12,
   "id": "8965887a",
   "metadata": {},
   "outputs": [
    {
     "data": {
      "text/plain": [
       "array(['0', '1', '2', '3+', nan], dtype=object)"
      ]
     },
     "execution_count": 12,
     "metadata": {},
     "output_type": "execute_result"
    }
   ],
   "source": [
    "data[\"Dependents\"].unique()"
   ]
  },
  {
   "cell_type": "code",
   "execution_count": 13,
   "id": "54bdfa8d",
   "metadata": {},
   "outputs": [
    {
     "data": {
      "text/plain": [
       "array(['Male', 'Female', nan], dtype=object)"
      ]
     },
     "execution_count": 13,
     "metadata": {},
     "output_type": "execute_result"
    }
   ],
   "source": [
    "data[\"Gender\"].unique()"
   ]
  },
  {
   "cell_type": "code",
   "execution_count": 14,
   "id": "0d9c06c3",
   "metadata": {},
   "outputs": [
    {
     "data": {
      "text/plain": [
       "0    Male\n",
       "Name: Gender, dtype: object"
      ]
     },
     "execution_count": 14,
     "metadata": {},
     "output_type": "execute_result"
    }
   ],
   "source": [
    "gender_mode=data[\"Gender\"].mode()\n",
    "gender_mode"
   ]
  },
  {
   "cell_type": "code",
   "execution_count": 15,
   "id": "11450af9",
   "metadata": {},
   "outputs": [
    {
     "data": {
      "text/plain": [
       "Index(['Married', 'Dependents', 'Self_Employed', 'Term', 'Credit_History'], dtype='object')"
      ]
     },
     "execution_count": 15,
     "metadata": {},
     "output_type": "execute_result"
    }
   ],
   "source": [
    "data[\"Gender\"]=data[\"Gender\"].fillna(\"Male\")\n",
    "data.columns[data.isna().any()]"
   ]
  },
  {
   "cell_type": "code",
   "execution_count": 16,
   "id": "b4e97bd6",
   "metadata": {},
   "outputs": [
    {
     "data": {
      "text/plain": [
       "array(['0', '1', '2', '3+', nan], dtype=object)"
      ]
     },
     "execution_count": 16,
     "metadata": {},
     "output_type": "execute_result"
    }
   ],
   "source": [
    "data[\"Dependents\"].unique()"
   ]
  },
  {
   "cell_type": "code",
   "execution_count": 17,
   "id": "a6ffdb0b",
   "metadata": {},
   "outputs": [
    {
     "data": {
      "text/plain": [
       "0    0\n",
       "Name: Dependents, dtype: object"
      ]
     },
     "execution_count": 17,
     "metadata": {},
     "output_type": "execute_result"
    }
   ],
   "source": [
    "data[\"Dependents\"].mode()"
   ]
  },
  {
   "cell_type": "code",
   "execution_count": 18,
   "id": "32a0e8ac",
   "metadata": {},
   "outputs": [
    {
     "data": {
      "text/plain": [
       "Index(['Married', 'Self_Employed', 'Term', 'Credit_History'], dtype='object')"
      ]
     },
     "execution_count": 18,
     "metadata": {},
     "output_type": "execute_result"
    }
   ],
   "source": [
    "data[\"Dependents\"] = data[\"Dependents\"].fillna(0)\n",
    "data.columns[data.isna().any()]"
   ]
  },
  {
   "cell_type": "code",
   "execution_count": 19,
   "id": "05f31e6a",
   "metadata": {},
   "outputs": [
    {
     "data": {
      "text/plain": [
       "array(['No', 'Yes', nan], dtype=object)"
      ]
     },
     "execution_count": 19,
     "metadata": {},
     "output_type": "execute_result"
    }
   ],
   "source": [
    "data['Self_Employed'].unique()"
   ]
  },
  {
   "cell_type": "code",
   "execution_count": 20,
   "id": "fad6c0d0",
   "metadata": {},
   "outputs": [
    {
     "data": {
      "text/plain": [
       "0    No\n",
       "Name: Self_Employed, dtype: object"
      ]
     },
     "execution_count": 20,
     "metadata": {},
     "output_type": "execute_result"
    }
   ],
   "source": [
    "data['Self_Employed'].mode()"
   ]
  },
  {
   "cell_type": "code",
   "execution_count": 21,
   "id": "00b9a727",
   "metadata": {},
   "outputs": [
    {
     "data": {
      "text/plain": [
       "Index(['Married', 'Term', 'Credit_History'], dtype='object')"
      ]
     },
     "execution_count": 21,
     "metadata": {},
     "output_type": "execute_result"
    }
   ],
   "source": [
    "data['Self_Employed']= data['Self_Employed'].fillna(\"No\")\n",
    "data.columns[data.isna().any()]"
   ]
  },
  {
   "cell_type": "code",
   "execution_count": 22,
   "id": "59145588",
   "metadata": {},
   "outputs": [
    {
     "data": {
      "text/plain": [
       "342.0"
      ]
     },
     "execution_count": 22,
     "metadata": {},
     "output_type": "execute_result"
    }
   ],
   "source": [
    "Term_mean = data[\"Term\"].mean()\n",
    "Term_mean"
   ]
  },
  {
   "cell_type": "code",
   "execution_count": 23,
   "id": "fb46de60",
   "metadata": {},
   "outputs": [
    {
     "data": {
      "text/plain": [
       "Index(['Married', 'Credit_History'], dtype='object')"
      ]
     },
     "execution_count": 23,
     "metadata": {},
     "output_type": "execute_result"
    }
   ],
   "source": [
    "data[\"Term\"] = data[\"Term\"].fillna(Term_mean)\n",
    "data.columns[data.isna().any()]"
   ]
  },
  {
   "cell_type": "code",
   "execution_count": 24,
   "id": "70210f2e",
   "metadata": {},
   "outputs": [
    {
     "data": {
      "text/plain": [
       "array(['No', 'Yes', nan], dtype=object)"
      ]
     },
     "execution_count": 24,
     "metadata": {},
     "output_type": "execute_result"
    }
   ],
   "source": [
    "data[\"Married\"].unique()"
   ]
  },
  {
   "cell_type": "code",
   "execution_count": 25,
   "id": "66a7a575",
   "metadata": {},
   "outputs": [
    {
     "data": {
      "text/plain": [
       "0    Yes\n",
       "Name: Married, dtype: object"
      ]
     },
     "execution_count": 25,
     "metadata": {},
     "output_type": "execute_result"
    }
   ],
   "source": [
    "data[\"Married\"].mode()\n"
   ]
  },
  {
   "cell_type": "code",
   "execution_count": 26,
   "id": "672ffbd8",
   "metadata": {},
   "outputs": [
    {
     "data": {
      "text/plain": [
       "Index(['Credit_History'], dtype='object')"
      ]
     },
     "execution_count": 26,
     "metadata": {},
     "output_type": "execute_result"
    }
   ],
   "source": [
    "data[\"Married\"] = data[\"Married\"].fillna(\"Yes\")\n",
    "data.columns[data.isna().any()]"
   ]
  },
  {
   "cell_type": "code",
   "execution_count": 27,
   "id": "24cd7127",
   "metadata": {},
   "outputs": [
    {
     "data": {
      "text/plain": [
       "array([ 1.,  0., nan])"
      ]
     },
     "execution_count": 27,
     "metadata": {},
     "output_type": "execute_result"
    }
   ],
   "source": [
    "data['Credit_History'].unique()"
   ]
  },
  {
   "cell_type": "code",
   "execution_count": 28,
   "id": "5fe1b889",
   "metadata": {},
   "outputs": [
    {
     "data": {
      "text/plain": [
       "0    1.0\n",
       "Name: Credit_History, dtype: float64"
      ]
     },
     "execution_count": 28,
     "metadata": {},
     "output_type": "execute_result"
    }
   ],
   "source": [
    "data[\"Credit_History\"].mode()"
   ]
  },
  {
   "cell_type": "code",
   "execution_count": 29,
   "id": "b8a81785",
   "metadata": {},
   "outputs": [
    {
     "data": {
      "text/plain": [
       "Index([], dtype='object')"
      ]
     },
     "execution_count": 29,
     "metadata": {},
     "output_type": "execute_result"
    }
   ],
   "source": [
    "data[\"Credit_History\"] = data[\"Credit_History\"].fillna(1.0)\n",
    "data.columns[data.isna().any()]"
   ]
  },
  {
   "cell_type": "code",
   "execution_count": 30,
   "id": "2b7b3cb8",
   "metadata": {},
   "outputs": [
    {
     "data": {
      "text/plain": [
       "array(['Graduate', 'Not Graduate'], dtype=object)"
      ]
     },
     "execution_count": 30,
     "metadata": {},
     "output_type": "execute_result"
    }
   ],
   "source": [
    "data[\"Education\"].unique()"
   ]
  },
  {
   "cell_type": "code",
   "execution_count": 31,
   "id": "c6a5831c",
   "metadata": {},
   "outputs": [
    {
     "data": {
      "text/plain": [
       "array(['Urban', 'Rural', 'Semiurban'], dtype=object)"
      ]
     },
     "execution_count": 31,
     "metadata": {},
     "output_type": "execute_result"
    }
   ],
   "source": [
    "data[\"Area\"].unique()"
   ]
  },
  {
   "cell_type": "code",
   "execution_count": 32,
   "id": "4ef053ab",
   "metadata": {},
   "outputs": [
    {
     "data": {
      "text/plain": [
       "array(['No', 'Yes'], dtype=object)"
      ]
     },
     "execution_count": 32,
     "metadata": {},
     "output_type": "execute_result"
    }
   ],
   "source": [
    "data[\"Married\"].unique()"
   ]
  },
  {
   "cell_type": "code",
   "execution_count": 33,
   "id": "73fa2a00",
   "metadata": {},
   "outputs": [
    {
     "data": {
      "text/plain": [
       "array(['Y', 'N'], dtype=object)"
      ]
     },
     "execution_count": 33,
     "metadata": {},
     "output_type": "execute_result"
    }
   ],
   "source": [
    "data[\"Status\"].unique()"
   ]
  },
  {
   "cell_type": "markdown",
   "id": "be8270d9",
   "metadata": {},
   "source": [
    "## Converting string to numbers"
   ]
  },
  {
   "cell_type": "code",
   "execution_count": 34,
   "id": "06bbafd5",
   "metadata": {},
   "outputs": [
    {
     "name": "stdout",
     "output_type": "stream",
     "text": [
      "['Male', 'Female']\n",
      "[0 1 2]\n",
      "{'Male': 0, 'Female': 1}\n",
      "{'Male': 0, 'Female': 1}\n"
     ]
    },
    {
     "data": {
      "text/html": [
       "<div>\n",
       "<style scoped>\n",
       "    .dataframe tbody tr th:only-of-type {\n",
       "        vertical-align: middle;\n",
       "    }\n",
       "\n",
       "    .dataframe tbody tr th {\n",
       "        vertical-align: top;\n",
       "    }\n",
       "\n",
       "    .dataframe thead th {\n",
       "        text-align: right;\n",
       "    }\n",
       "</style>\n",
       "<table border=\"1\" class=\"dataframe\">\n",
       "  <thead>\n",
       "    <tr style=\"text-align: right;\">\n",
       "      <th></th>\n",
       "      <th>Gender</th>\n",
       "      <th>Married</th>\n",
       "      <th>Dependents</th>\n",
       "      <th>Education</th>\n",
       "      <th>Self_Employed</th>\n",
       "      <th>Applicant_Income</th>\n",
       "      <th>Coapplicant_Income</th>\n",
       "      <th>Loan_Amount</th>\n",
       "      <th>Term</th>\n",
       "      <th>Credit_History</th>\n",
       "      <th>Area</th>\n",
       "      <th>Status</th>\n",
       "    </tr>\n",
       "  </thead>\n",
       "  <tbody>\n",
       "    <tr>\n",
       "      <th>0</th>\n",
       "      <td>0</td>\n",
       "      <td>No</td>\n",
       "      <td>0</td>\n",
       "      <td>Graduate</td>\n",
       "      <td>No</td>\n",
       "      <td>584900</td>\n",
       "      <td>0.0</td>\n",
       "      <td>15000000</td>\n",
       "      <td>360.0</td>\n",
       "      <td>1.0</td>\n",
       "      <td>Urban</td>\n",
       "      <td>Y</td>\n",
       "    </tr>\n",
       "    <tr>\n",
       "      <th>1</th>\n",
       "      <td>0</td>\n",
       "      <td>Yes</td>\n",
       "      <td>1</td>\n",
       "      <td>Graduate</td>\n",
       "      <td>No</td>\n",
       "      <td>458300</td>\n",
       "      <td>150800.0</td>\n",
       "      <td>12800000</td>\n",
       "      <td>360.0</td>\n",
       "      <td>1.0</td>\n",
       "      <td>Rural</td>\n",
       "      <td>N</td>\n",
       "    </tr>\n",
       "    <tr>\n",
       "      <th>2</th>\n",
       "      <td>0</td>\n",
       "      <td>Yes</td>\n",
       "      <td>0</td>\n",
       "      <td>Graduate</td>\n",
       "      <td>Yes</td>\n",
       "      <td>300000</td>\n",
       "      <td>0.0</td>\n",
       "      <td>6600000</td>\n",
       "      <td>360.0</td>\n",
       "      <td>1.0</td>\n",
       "      <td>Urban</td>\n",
       "      <td>Y</td>\n",
       "    </tr>\n",
       "    <tr>\n",
       "      <th>3</th>\n",
       "      <td>0</td>\n",
       "      <td>Yes</td>\n",
       "      <td>0</td>\n",
       "      <td>Not Graduate</td>\n",
       "      <td>No</td>\n",
       "      <td>258300</td>\n",
       "      <td>235800.0</td>\n",
       "      <td>12000000</td>\n",
       "      <td>360.0</td>\n",
       "      <td>1.0</td>\n",
       "      <td>Urban</td>\n",
       "      <td>Y</td>\n",
       "    </tr>\n",
       "    <tr>\n",
       "      <th>4</th>\n",
       "      <td>0</td>\n",
       "      <td>No</td>\n",
       "      <td>0</td>\n",
       "      <td>Graduate</td>\n",
       "      <td>No</td>\n",
       "      <td>600000</td>\n",
       "      <td>0.0</td>\n",
       "      <td>14100000</td>\n",
       "      <td>360.0</td>\n",
       "      <td>1.0</td>\n",
       "      <td>Urban</td>\n",
       "      <td>Y</td>\n",
       "    </tr>\n",
       "    <tr>\n",
       "      <th>...</th>\n",
       "      <td>...</td>\n",
       "      <td>...</td>\n",
       "      <td>...</td>\n",
       "      <td>...</td>\n",
       "      <td>...</td>\n",
       "      <td>...</td>\n",
       "      <td>...</td>\n",
       "      <td>...</td>\n",
       "      <td>...</td>\n",
       "      <td>...</td>\n",
       "      <td>...</td>\n",
       "      <td>...</td>\n",
       "    </tr>\n",
       "    <tr>\n",
       "      <th>609</th>\n",
       "      <td>1</td>\n",
       "      <td>No</td>\n",
       "      <td>0</td>\n",
       "      <td>Graduate</td>\n",
       "      <td>No</td>\n",
       "      <td>290000</td>\n",
       "      <td>0.0</td>\n",
       "      <td>7100000</td>\n",
       "      <td>360.0</td>\n",
       "      <td>1.0</td>\n",
       "      <td>Rural</td>\n",
       "      <td>Y</td>\n",
       "    </tr>\n",
       "    <tr>\n",
       "      <th>610</th>\n",
       "      <td>0</td>\n",
       "      <td>Yes</td>\n",
       "      <td>3+</td>\n",
       "      <td>Graduate</td>\n",
       "      <td>No</td>\n",
       "      <td>410600</td>\n",
       "      <td>0.0</td>\n",
       "      <td>4000000</td>\n",
       "      <td>180.0</td>\n",
       "      <td>1.0</td>\n",
       "      <td>Rural</td>\n",
       "      <td>Y</td>\n",
       "    </tr>\n",
       "    <tr>\n",
       "      <th>611</th>\n",
       "      <td>0</td>\n",
       "      <td>Yes</td>\n",
       "      <td>1</td>\n",
       "      <td>Graduate</td>\n",
       "      <td>No</td>\n",
       "      <td>807200</td>\n",
       "      <td>24000.0</td>\n",
       "      <td>25300000</td>\n",
       "      <td>360.0</td>\n",
       "      <td>1.0</td>\n",
       "      <td>Urban</td>\n",
       "      <td>Y</td>\n",
       "    </tr>\n",
       "    <tr>\n",
       "      <th>612</th>\n",
       "      <td>0</td>\n",
       "      <td>Yes</td>\n",
       "      <td>2</td>\n",
       "      <td>Graduate</td>\n",
       "      <td>No</td>\n",
       "      <td>758300</td>\n",
       "      <td>0.0</td>\n",
       "      <td>18700000</td>\n",
       "      <td>360.0</td>\n",
       "      <td>1.0</td>\n",
       "      <td>Urban</td>\n",
       "      <td>Y</td>\n",
       "    </tr>\n",
       "    <tr>\n",
       "      <th>613</th>\n",
       "      <td>1</td>\n",
       "      <td>No</td>\n",
       "      <td>0</td>\n",
       "      <td>Graduate</td>\n",
       "      <td>Yes</td>\n",
       "      <td>458300</td>\n",
       "      <td>0.0</td>\n",
       "      <td>13300000</td>\n",
       "      <td>360.0</td>\n",
       "      <td>0.0</td>\n",
       "      <td>Semiurban</td>\n",
       "      <td>N</td>\n",
       "    </tr>\n",
       "  </tbody>\n",
       "</table>\n",
       "<p>614 rows × 12 columns</p>\n",
       "</div>"
      ],
      "text/plain": [
       "     Gender Married Dependents     Education Self_Employed  Applicant_Income  \\\n",
       "0         0      No          0      Graduate            No            584900   \n",
       "1         0     Yes          1      Graduate            No            458300   \n",
       "2         0     Yes          0      Graduate           Yes            300000   \n",
       "3         0     Yes          0  Not Graduate            No            258300   \n",
       "4         0      No          0      Graduate            No            600000   \n",
       "..      ...     ...        ...           ...           ...               ...   \n",
       "609       1      No          0      Graduate            No            290000   \n",
       "610       0     Yes         3+      Graduate            No            410600   \n",
       "611       0     Yes          1      Graduate            No            807200   \n",
       "612       0     Yes          2      Graduate            No            758300   \n",
       "613       1      No          0      Graduate           Yes            458300   \n",
       "\n",
       "     Coapplicant_Income  Loan_Amount   Term  Credit_History       Area Status  \n",
       "0                   0.0     15000000  360.0             1.0      Urban      Y  \n",
       "1              150800.0     12800000  360.0             1.0      Rural      N  \n",
       "2                   0.0      6600000  360.0             1.0      Urban      Y  \n",
       "3              235800.0     12000000  360.0             1.0      Urban      Y  \n",
       "4                   0.0     14100000  360.0             1.0      Urban      Y  \n",
       "..                  ...          ...    ...             ...        ...    ...  \n",
       "609                 0.0      7100000  360.0             1.0      Rural      Y  \n",
       "610                 0.0      4000000  180.0             1.0      Rural      Y  \n",
       "611             24000.0     25300000  360.0             1.0      Urban      Y  \n",
       "612                 0.0     18700000  360.0             1.0      Urban      Y  \n",
       "613                 0.0     13300000  360.0             0.0  Semiurban      N  \n",
       "\n",
       "[614 rows x 12 columns]"
      ]
     },
     "execution_count": 34,
     "metadata": {},
     "output_type": "execute_result"
    }
   ],
   "source": [
    "Gender_unique = data['Gender'].unique().tolist()\n",
    "print(Gender_unique)\n",
    "Gender_index = np.arange(0,len(Gender_unique)+1,1)\n",
    "print(Gender_index)\n",
    "Gender_text_to_num = {i:j for i,j in zip(Gender_unique,Gender_index)}\n",
    "print(Gender_text_to_num)\n",
    "Gender_num_to_text ={j:i for j,i in zip(Gender_unique,Gender_index)}\n",
    "print(Gender_num_to_text)\n",
    "data['Gender'] = data['Gender'].map(Gender_text_to_num)\n",
    "data\n"
   ]
  },
  {
   "cell_type": "code",
   "execution_count": 35,
   "id": "cc7dc10d",
   "metadata": {},
   "outputs": [
    {
     "name": "stdout",
     "output_type": "stream",
     "text": [
      "['No', 'Yes']\n",
      "[0 1 2]\n",
      "{'No': 0, 'Yes': 1}\n",
      "{'No': 0, 'Yes': 1}\n"
     ]
    },
    {
     "data": {
      "text/html": [
       "<div>\n",
       "<style scoped>\n",
       "    .dataframe tbody tr th:only-of-type {\n",
       "        vertical-align: middle;\n",
       "    }\n",
       "\n",
       "    .dataframe tbody tr th {\n",
       "        vertical-align: top;\n",
       "    }\n",
       "\n",
       "    .dataframe thead th {\n",
       "        text-align: right;\n",
       "    }\n",
       "</style>\n",
       "<table border=\"1\" class=\"dataframe\">\n",
       "  <thead>\n",
       "    <tr style=\"text-align: right;\">\n",
       "      <th></th>\n",
       "      <th>Gender</th>\n",
       "      <th>Married</th>\n",
       "      <th>Dependents</th>\n",
       "      <th>Education</th>\n",
       "      <th>Self_Employed</th>\n",
       "      <th>Applicant_Income</th>\n",
       "      <th>Coapplicant_Income</th>\n",
       "      <th>Loan_Amount</th>\n",
       "      <th>Term</th>\n",
       "      <th>Credit_History</th>\n",
       "      <th>Area</th>\n",
       "      <th>Status</th>\n",
       "    </tr>\n",
       "  </thead>\n",
       "  <tbody>\n",
       "    <tr>\n",
       "      <th>0</th>\n",
       "      <td>0</td>\n",
       "      <td>0</td>\n",
       "      <td>0</td>\n",
       "      <td>Graduate</td>\n",
       "      <td>No</td>\n",
       "      <td>584900</td>\n",
       "      <td>0.0</td>\n",
       "      <td>15000000</td>\n",
       "      <td>360.0</td>\n",
       "      <td>1.0</td>\n",
       "      <td>Urban</td>\n",
       "      <td>Y</td>\n",
       "    </tr>\n",
       "    <tr>\n",
       "      <th>1</th>\n",
       "      <td>0</td>\n",
       "      <td>1</td>\n",
       "      <td>1</td>\n",
       "      <td>Graduate</td>\n",
       "      <td>No</td>\n",
       "      <td>458300</td>\n",
       "      <td>150800.0</td>\n",
       "      <td>12800000</td>\n",
       "      <td>360.0</td>\n",
       "      <td>1.0</td>\n",
       "      <td>Rural</td>\n",
       "      <td>N</td>\n",
       "    </tr>\n",
       "    <tr>\n",
       "      <th>2</th>\n",
       "      <td>0</td>\n",
       "      <td>1</td>\n",
       "      <td>0</td>\n",
       "      <td>Graduate</td>\n",
       "      <td>Yes</td>\n",
       "      <td>300000</td>\n",
       "      <td>0.0</td>\n",
       "      <td>6600000</td>\n",
       "      <td>360.0</td>\n",
       "      <td>1.0</td>\n",
       "      <td>Urban</td>\n",
       "      <td>Y</td>\n",
       "    </tr>\n",
       "    <tr>\n",
       "      <th>3</th>\n",
       "      <td>0</td>\n",
       "      <td>1</td>\n",
       "      <td>0</td>\n",
       "      <td>Not Graduate</td>\n",
       "      <td>No</td>\n",
       "      <td>258300</td>\n",
       "      <td>235800.0</td>\n",
       "      <td>12000000</td>\n",
       "      <td>360.0</td>\n",
       "      <td>1.0</td>\n",
       "      <td>Urban</td>\n",
       "      <td>Y</td>\n",
       "    </tr>\n",
       "    <tr>\n",
       "      <th>4</th>\n",
       "      <td>0</td>\n",
       "      <td>0</td>\n",
       "      <td>0</td>\n",
       "      <td>Graduate</td>\n",
       "      <td>No</td>\n",
       "      <td>600000</td>\n",
       "      <td>0.0</td>\n",
       "      <td>14100000</td>\n",
       "      <td>360.0</td>\n",
       "      <td>1.0</td>\n",
       "      <td>Urban</td>\n",
       "      <td>Y</td>\n",
       "    </tr>\n",
       "    <tr>\n",
       "      <th>...</th>\n",
       "      <td>...</td>\n",
       "      <td>...</td>\n",
       "      <td>...</td>\n",
       "      <td>...</td>\n",
       "      <td>...</td>\n",
       "      <td>...</td>\n",
       "      <td>...</td>\n",
       "      <td>...</td>\n",
       "      <td>...</td>\n",
       "      <td>...</td>\n",
       "      <td>...</td>\n",
       "      <td>...</td>\n",
       "    </tr>\n",
       "    <tr>\n",
       "      <th>609</th>\n",
       "      <td>1</td>\n",
       "      <td>0</td>\n",
       "      <td>0</td>\n",
       "      <td>Graduate</td>\n",
       "      <td>No</td>\n",
       "      <td>290000</td>\n",
       "      <td>0.0</td>\n",
       "      <td>7100000</td>\n",
       "      <td>360.0</td>\n",
       "      <td>1.0</td>\n",
       "      <td>Rural</td>\n",
       "      <td>Y</td>\n",
       "    </tr>\n",
       "    <tr>\n",
       "      <th>610</th>\n",
       "      <td>0</td>\n",
       "      <td>1</td>\n",
       "      <td>3+</td>\n",
       "      <td>Graduate</td>\n",
       "      <td>No</td>\n",
       "      <td>410600</td>\n",
       "      <td>0.0</td>\n",
       "      <td>4000000</td>\n",
       "      <td>180.0</td>\n",
       "      <td>1.0</td>\n",
       "      <td>Rural</td>\n",
       "      <td>Y</td>\n",
       "    </tr>\n",
       "    <tr>\n",
       "      <th>611</th>\n",
       "      <td>0</td>\n",
       "      <td>1</td>\n",
       "      <td>1</td>\n",
       "      <td>Graduate</td>\n",
       "      <td>No</td>\n",
       "      <td>807200</td>\n",
       "      <td>24000.0</td>\n",
       "      <td>25300000</td>\n",
       "      <td>360.0</td>\n",
       "      <td>1.0</td>\n",
       "      <td>Urban</td>\n",
       "      <td>Y</td>\n",
       "    </tr>\n",
       "    <tr>\n",
       "      <th>612</th>\n",
       "      <td>0</td>\n",
       "      <td>1</td>\n",
       "      <td>2</td>\n",
       "      <td>Graduate</td>\n",
       "      <td>No</td>\n",
       "      <td>758300</td>\n",
       "      <td>0.0</td>\n",
       "      <td>18700000</td>\n",
       "      <td>360.0</td>\n",
       "      <td>1.0</td>\n",
       "      <td>Urban</td>\n",
       "      <td>Y</td>\n",
       "    </tr>\n",
       "    <tr>\n",
       "      <th>613</th>\n",
       "      <td>1</td>\n",
       "      <td>0</td>\n",
       "      <td>0</td>\n",
       "      <td>Graduate</td>\n",
       "      <td>Yes</td>\n",
       "      <td>458300</td>\n",
       "      <td>0.0</td>\n",
       "      <td>13300000</td>\n",
       "      <td>360.0</td>\n",
       "      <td>0.0</td>\n",
       "      <td>Semiurban</td>\n",
       "      <td>N</td>\n",
       "    </tr>\n",
       "  </tbody>\n",
       "</table>\n",
       "<p>614 rows × 12 columns</p>\n",
       "</div>"
      ],
      "text/plain": [
       "     Gender  Married Dependents     Education Self_Employed  Applicant_Income  \\\n",
       "0         0        0          0      Graduate            No            584900   \n",
       "1         0        1          1      Graduate            No            458300   \n",
       "2         0        1          0      Graduate           Yes            300000   \n",
       "3         0        1          0  Not Graduate            No            258300   \n",
       "4         0        0          0      Graduate            No            600000   \n",
       "..      ...      ...        ...           ...           ...               ...   \n",
       "609       1        0          0      Graduate            No            290000   \n",
       "610       0        1         3+      Graduate            No            410600   \n",
       "611       0        1          1      Graduate            No            807200   \n",
       "612       0        1          2      Graduate            No            758300   \n",
       "613       1        0          0      Graduate           Yes            458300   \n",
       "\n",
       "     Coapplicant_Income  Loan_Amount   Term  Credit_History       Area Status  \n",
       "0                   0.0     15000000  360.0             1.0      Urban      Y  \n",
       "1              150800.0     12800000  360.0             1.0      Rural      N  \n",
       "2                   0.0      6600000  360.0             1.0      Urban      Y  \n",
       "3              235800.0     12000000  360.0             1.0      Urban      Y  \n",
       "4                   0.0     14100000  360.0             1.0      Urban      Y  \n",
       "..                  ...          ...    ...             ...        ...    ...  \n",
       "609                 0.0      7100000  360.0             1.0      Rural      Y  \n",
       "610                 0.0      4000000  180.0             1.0      Rural      Y  \n",
       "611             24000.0     25300000  360.0             1.0      Urban      Y  \n",
       "612                 0.0     18700000  360.0             1.0      Urban      Y  \n",
       "613                 0.0     13300000  360.0             0.0  Semiurban      N  \n",
       "\n",
       "[614 rows x 12 columns]"
      ]
     },
     "execution_count": 35,
     "metadata": {},
     "output_type": "execute_result"
    }
   ],
   "source": [
    "Married_unique = data['Married'].unique().tolist()\n",
    "print(Married_unique)\n",
    "Married_index = np.arange(0,len(Married_unique)+1,1)\n",
    "print(Married_index)\n",
    "Married_text_to_num = {i:j for i,j in zip(Married_unique,Married_index)}\n",
    "print(Married_text_to_num)\n",
    "Married_num_to_text ={j:i for j,i in zip(Married_unique,Married_index)}\n",
    "print(Married_num_to_text)\n",
    "data['Married'] = data['Married'].map(Married_text_to_num)\n",
    "data\n"
   ]
  },
  {
   "cell_type": "code",
   "execution_count": 36,
   "id": "128ecbd8",
   "metadata": {},
   "outputs": [
    {
     "name": "stdout",
     "output_type": "stream",
     "text": [
      "['Graduate', 'Not Graduate']\n",
      "[0 1 2]\n",
      "{'Graduate': 0, 'Not Graduate': 1}\n",
      "{'Graduate': 0, 'Not Graduate': 1}\n"
     ]
    },
    {
     "data": {
      "text/html": [
       "<div>\n",
       "<style scoped>\n",
       "    .dataframe tbody tr th:only-of-type {\n",
       "        vertical-align: middle;\n",
       "    }\n",
       "\n",
       "    .dataframe tbody tr th {\n",
       "        vertical-align: top;\n",
       "    }\n",
       "\n",
       "    .dataframe thead th {\n",
       "        text-align: right;\n",
       "    }\n",
       "</style>\n",
       "<table border=\"1\" class=\"dataframe\">\n",
       "  <thead>\n",
       "    <tr style=\"text-align: right;\">\n",
       "      <th></th>\n",
       "      <th>Gender</th>\n",
       "      <th>Married</th>\n",
       "      <th>Dependents</th>\n",
       "      <th>Education</th>\n",
       "      <th>Self_Employed</th>\n",
       "      <th>Applicant_Income</th>\n",
       "      <th>Coapplicant_Income</th>\n",
       "      <th>Loan_Amount</th>\n",
       "      <th>Term</th>\n",
       "      <th>Credit_History</th>\n",
       "      <th>Area</th>\n",
       "      <th>Status</th>\n",
       "    </tr>\n",
       "  </thead>\n",
       "  <tbody>\n",
       "    <tr>\n",
       "      <th>0</th>\n",
       "      <td>0</td>\n",
       "      <td>0</td>\n",
       "      <td>0</td>\n",
       "      <td>0</td>\n",
       "      <td>No</td>\n",
       "      <td>584900</td>\n",
       "      <td>0.0</td>\n",
       "      <td>15000000</td>\n",
       "      <td>360.0</td>\n",
       "      <td>1.0</td>\n",
       "      <td>Urban</td>\n",
       "      <td>Y</td>\n",
       "    </tr>\n",
       "    <tr>\n",
       "      <th>1</th>\n",
       "      <td>0</td>\n",
       "      <td>1</td>\n",
       "      <td>1</td>\n",
       "      <td>0</td>\n",
       "      <td>No</td>\n",
       "      <td>458300</td>\n",
       "      <td>150800.0</td>\n",
       "      <td>12800000</td>\n",
       "      <td>360.0</td>\n",
       "      <td>1.0</td>\n",
       "      <td>Rural</td>\n",
       "      <td>N</td>\n",
       "    </tr>\n",
       "    <tr>\n",
       "      <th>2</th>\n",
       "      <td>0</td>\n",
       "      <td>1</td>\n",
       "      <td>0</td>\n",
       "      <td>0</td>\n",
       "      <td>Yes</td>\n",
       "      <td>300000</td>\n",
       "      <td>0.0</td>\n",
       "      <td>6600000</td>\n",
       "      <td>360.0</td>\n",
       "      <td>1.0</td>\n",
       "      <td>Urban</td>\n",
       "      <td>Y</td>\n",
       "    </tr>\n",
       "    <tr>\n",
       "      <th>3</th>\n",
       "      <td>0</td>\n",
       "      <td>1</td>\n",
       "      <td>0</td>\n",
       "      <td>1</td>\n",
       "      <td>No</td>\n",
       "      <td>258300</td>\n",
       "      <td>235800.0</td>\n",
       "      <td>12000000</td>\n",
       "      <td>360.0</td>\n",
       "      <td>1.0</td>\n",
       "      <td>Urban</td>\n",
       "      <td>Y</td>\n",
       "    </tr>\n",
       "    <tr>\n",
       "      <th>4</th>\n",
       "      <td>0</td>\n",
       "      <td>0</td>\n",
       "      <td>0</td>\n",
       "      <td>0</td>\n",
       "      <td>No</td>\n",
       "      <td>600000</td>\n",
       "      <td>0.0</td>\n",
       "      <td>14100000</td>\n",
       "      <td>360.0</td>\n",
       "      <td>1.0</td>\n",
       "      <td>Urban</td>\n",
       "      <td>Y</td>\n",
       "    </tr>\n",
       "    <tr>\n",
       "      <th>...</th>\n",
       "      <td>...</td>\n",
       "      <td>...</td>\n",
       "      <td>...</td>\n",
       "      <td>...</td>\n",
       "      <td>...</td>\n",
       "      <td>...</td>\n",
       "      <td>...</td>\n",
       "      <td>...</td>\n",
       "      <td>...</td>\n",
       "      <td>...</td>\n",
       "      <td>...</td>\n",
       "      <td>...</td>\n",
       "    </tr>\n",
       "    <tr>\n",
       "      <th>609</th>\n",
       "      <td>1</td>\n",
       "      <td>0</td>\n",
       "      <td>0</td>\n",
       "      <td>0</td>\n",
       "      <td>No</td>\n",
       "      <td>290000</td>\n",
       "      <td>0.0</td>\n",
       "      <td>7100000</td>\n",
       "      <td>360.0</td>\n",
       "      <td>1.0</td>\n",
       "      <td>Rural</td>\n",
       "      <td>Y</td>\n",
       "    </tr>\n",
       "    <tr>\n",
       "      <th>610</th>\n",
       "      <td>0</td>\n",
       "      <td>1</td>\n",
       "      <td>3+</td>\n",
       "      <td>0</td>\n",
       "      <td>No</td>\n",
       "      <td>410600</td>\n",
       "      <td>0.0</td>\n",
       "      <td>4000000</td>\n",
       "      <td>180.0</td>\n",
       "      <td>1.0</td>\n",
       "      <td>Rural</td>\n",
       "      <td>Y</td>\n",
       "    </tr>\n",
       "    <tr>\n",
       "      <th>611</th>\n",
       "      <td>0</td>\n",
       "      <td>1</td>\n",
       "      <td>1</td>\n",
       "      <td>0</td>\n",
       "      <td>No</td>\n",
       "      <td>807200</td>\n",
       "      <td>24000.0</td>\n",
       "      <td>25300000</td>\n",
       "      <td>360.0</td>\n",
       "      <td>1.0</td>\n",
       "      <td>Urban</td>\n",
       "      <td>Y</td>\n",
       "    </tr>\n",
       "    <tr>\n",
       "      <th>612</th>\n",
       "      <td>0</td>\n",
       "      <td>1</td>\n",
       "      <td>2</td>\n",
       "      <td>0</td>\n",
       "      <td>No</td>\n",
       "      <td>758300</td>\n",
       "      <td>0.0</td>\n",
       "      <td>18700000</td>\n",
       "      <td>360.0</td>\n",
       "      <td>1.0</td>\n",
       "      <td>Urban</td>\n",
       "      <td>Y</td>\n",
       "    </tr>\n",
       "    <tr>\n",
       "      <th>613</th>\n",
       "      <td>1</td>\n",
       "      <td>0</td>\n",
       "      <td>0</td>\n",
       "      <td>0</td>\n",
       "      <td>Yes</td>\n",
       "      <td>458300</td>\n",
       "      <td>0.0</td>\n",
       "      <td>13300000</td>\n",
       "      <td>360.0</td>\n",
       "      <td>0.0</td>\n",
       "      <td>Semiurban</td>\n",
       "      <td>N</td>\n",
       "    </tr>\n",
       "  </tbody>\n",
       "</table>\n",
       "<p>614 rows × 12 columns</p>\n",
       "</div>"
      ],
      "text/plain": [
       "     Gender  Married Dependents  Education Self_Employed  Applicant_Income  \\\n",
       "0         0        0          0          0            No            584900   \n",
       "1         0        1          1          0            No            458300   \n",
       "2         0        1          0          0           Yes            300000   \n",
       "3         0        1          0          1            No            258300   \n",
       "4         0        0          0          0            No            600000   \n",
       "..      ...      ...        ...        ...           ...               ...   \n",
       "609       1        0          0          0            No            290000   \n",
       "610       0        1         3+          0            No            410600   \n",
       "611       0        1          1          0            No            807200   \n",
       "612       0        1          2          0            No            758300   \n",
       "613       1        0          0          0           Yes            458300   \n",
       "\n",
       "     Coapplicant_Income  Loan_Amount   Term  Credit_History       Area Status  \n",
       "0                   0.0     15000000  360.0             1.0      Urban      Y  \n",
       "1              150800.0     12800000  360.0             1.0      Rural      N  \n",
       "2                   0.0      6600000  360.0             1.0      Urban      Y  \n",
       "3              235800.0     12000000  360.0             1.0      Urban      Y  \n",
       "4                   0.0     14100000  360.0             1.0      Urban      Y  \n",
       "..                  ...          ...    ...             ...        ...    ...  \n",
       "609                 0.0      7100000  360.0             1.0      Rural      Y  \n",
       "610                 0.0      4000000  180.0             1.0      Rural      Y  \n",
       "611             24000.0     25300000  360.0             1.0      Urban      Y  \n",
       "612                 0.0     18700000  360.0             1.0      Urban      Y  \n",
       "613                 0.0     13300000  360.0             0.0  Semiurban      N  \n",
       "\n",
       "[614 rows x 12 columns]"
      ]
     },
     "execution_count": 36,
     "metadata": {},
     "output_type": "execute_result"
    }
   ],
   "source": [
    "Education_unique = data['Education'].unique().tolist()\n",
    "print(Education_unique)\n",
    "Education_index = np.arange(0,len(Education_unique)+1,1)\n",
    "print(Education_index)\n",
    "Education_text_to_num = {i:j for i,j in zip(Education_unique,Education_index)}\n",
    "print(Education_text_to_num)\n",
    "Education_num_to_text ={j:i for j,i in zip(Education_unique,Education_index)}\n",
    "print(Education_num_to_text)\n",
    "data['Education'] = data['Education'].map(Education_text_to_num)\n",
    "data\n"
   ]
  },
  {
   "cell_type": "code",
   "execution_count": 37,
   "id": "05381cad",
   "metadata": {},
   "outputs": [
    {
     "name": "stdout",
     "output_type": "stream",
     "text": [
      "['No', 'Yes']\n",
      "[0 1 2]\n",
      "{'No': 0, 'Yes': 1}\n",
      "{'No': 0, 'Yes': 1}\n"
     ]
    },
    {
     "data": {
      "text/html": [
       "<div>\n",
       "<style scoped>\n",
       "    .dataframe tbody tr th:only-of-type {\n",
       "        vertical-align: middle;\n",
       "    }\n",
       "\n",
       "    .dataframe tbody tr th {\n",
       "        vertical-align: top;\n",
       "    }\n",
       "\n",
       "    .dataframe thead th {\n",
       "        text-align: right;\n",
       "    }\n",
       "</style>\n",
       "<table border=\"1\" class=\"dataframe\">\n",
       "  <thead>\n",
       "    <tr style=\"text-align: right;\">\n",
       "      <th></th>\n",
       "      <th>Gender</th>\n",
       "      <th>Married</th>\n",
       "      <th>Dependents</th>\n",
       "      <th>Education</th>\n",
       "      <th>Self_Employed</th>\n",
       "      <th>Applicant_Income</th>\n",
       "      <th>Coapplicant_Income</th>\n",
       "      <th>Loan_Amount</th>\n",
       "      <th>Term</th>\n",
       "      <th>Credit_History</th>\n",
       "      <th>Area</th>\n",
       "      <th>Status</th>\n",
       "    </tr>\n",
       "  </thead>\n",
       "  <tbody>\n",
       "    <tr>\n",
       "      <th>0</th>\n",
       "      <td>0</td>\n",
       "      <td>0</td>\n",
       "      <td>0</td>\n",
       "      <td>0</td>\n",
       "      <td>0</td>\n",
       "      <td>584900</td>\n",
       "      <td>0.0</td>\n",
       "      <td>15000000</td>\n",
       "      <td>360.0</td>\n",
       "      <td>1.0</td>\n",
       "      <td>Urban</td>\n",
       "      <td>Y</td>\n",
       "    </tr>\n",
       "    <tr>\n",
       "      <th>1</th>\n",
       "      <td>0</td>\n",
       "      <td>1</td>\n",
       "      <td>1</td>\n",
       "      <td>0</td>\n",
       "      <td>0</td>\n",
       "      <td>458300</td>\n",
       "      <td>150800.0</td>\n",
       "      <td>12800000</td>\n",
       "      <td>360.0</td>\n",
       "      <td>1.0</td>\n",
       "      <td>Rural</td>\n",
       "      <td>N</td>\n",
       "    </tr>\n",
       "    <tr>\n",
       "      <th>2</th>\n",
       "      <td>0</td>\n",
       "      <td>1</td>\n",
       "      <td>0</td>\n",
       "      <td>0</td>\n",
       "      <td>1</td>\n",
       "      <td>300000</td>\n",
       "      <td>0.0</td>\n",
       "      <td>6600000</td>\n",
       "      <td>360.0</td>\n",
       "      <td>1.0</td>\n",
       "      <td>Urban</td>\n",
       "      <td>Y</td>\n",
       "    </tr>\n",
       "    <tr>\n",
       "      <th>3</th>\n",
       "      <td>0</td>\n",
       "      <td>1</td>\n",
       "      <td>0</td>\n",
       "      <td>1</td>\n",
       "      <td>0</td>\n",
       "      <td>258300</td>\n",
       "      <td>235800.0</td>\n",
       "      <td>12000000</td>\n",
       "      <td>360.0</td>\n",
       "      <td>1.0</td>\n",
       "      <td>Urban</td>\n",
       "      <td>Y</td>\n",
       "    </tr>\n",
       "    <tr>\n",
       "      <th>4</th>\n",
       "      <td>0</td>\n",
       "      <td>0</td>\n",
       "      <td>0</td>\n",
       "      <td>0</td>\n",
       "      <td>0</td>\n",
       "      <td>600000</td>\n",
       "      <td>0.0</td>\n",
       "      <td>14100000</td>\n",
       "      <td>360.0</td>\n",
       "      <td>1.0</td>\n",
       "      <td>Urban</td>\n",
       "      <td>Y</td>\n",
       "    </tr>\n",
       "    <tr>\n",
       "      <th>...</th>\n",
       "      <td>...</td>\n",
       "      <td>...</td>\n",
       "      <td>...</td>\n",
       "      <td>...</td>\n",
       "      <td>...</td>\n",
       "      <td>...</td>\n",
       "      <td>...</td>\n",
       "      <td>...</td>\n",
       "      <td>...</td>\n",
       "      <td>...</td>\n",
       "      <td>...</td>\n",
       "      <td>...</td>\n",
       "    </tr>\n",
       "    <tr>\n",
       "      <th>609</th>\n",
       "      <td>1</td>\n",
       "      <td>0</td>\n",
       "      <td>0</td>\n",
       "      <td>0</td>\n",
       "      <td>0</td>\n",
       "      <td>290000</td>\n",
       "      <td>0.0</td>\n",
       "      <td>7100000</td>\n",
       "      <td>360.0</td>\n",
       "      <td>1.0</td>\n",
       "      <td>Rural</td>\n",
       "      <td>Y</td>\n",
       "    </tr>\n",
       "    <tr>\n",
       "      <th>610</th>\n",
       "      <td>0</td>\n",
       "      <td>1</td>\n",
       "      <td>3+</td>\n",
       "      <td>0</td>\n",
       "      <td>0</td>\n",
       "      <td>410600</td>\n",
       "      <td>0.0</td>\n",
       "      <td>4000000</td>\n",
       "      <td>180.0</td>\n",
       "      <td>1.0</td>\n",
       "      <td>Rural</td>\n",
       "      <td>Y</td>\n",
       "    </tr>\n",
       "    <tr>\n",
       "      <th>611</th>\n",
       "      <td>0</td>\n",
       "      <td>1</td>\n",
       "      <td>1</td>\n",
       "      <td>0</td>\n",
       "      <td>0</td>\n",
       "      <td>807200</td>\n",
       "      <td>24000.0</td>\n",
       "      <td>25300000</td>\n",
       "      <td>360.0</td>\n",
       "      <td>1.0</td>\n",
       "      <td>Urban</td>\n",
       "      <td>Y</td>\n",
       "    </tr>\n",
       "    <tr>\n",
       "      <th>612</th>\n",
       "      <td>0</td>\n",
       "      <td>1</td>\n",
       "      <td>2</td>\n",
       "      <td>0</td>\n",
       "      <td>0</td>\n",
       "      <td>758300</td>\n",
       "      <td>0.0</td>\n",
       "      <td>18700000</td>\n",
       "      <td>360.0</td>\n",
       "      <td>1.0</td>\n",
       "      <td>Urban</td>\n",
       "      <td>Y</td>\n",
       "    </tr>\n",
       "    <tr>\n",
       "      <th>613</th>\n",
       "      <td>1</td>\n",
       "      <td>0</td>\n",
       "      <td>0</td>\n",
       "      <td>0</td>\n",
       "      <td>1</td>\n",
       "      <td>458300</td>\n",
       "      <td>0.0</td>\n",
       "      <td>13300000</td>\n",
       "      <td>360.0</td>\n",
       "      <td>0.0</td>\n",
       "      <td>Semiurban</td>\n",
       "      <td>N</td>\n",
       "    </tr>\n",
       "  </tbody>\n",
       "</table>\n",
       "<p>614 rows × 12 columns</p>\n",
       "</div>"
      ],
      "text/plain": [
       "     Gender  Married Dependents  Education  Self_Employed  Applicant_Income  \\\n",
       "0         0        0          0          0              0            584900   \n",
       "1         0        1          1          0              0            458300   \n",
       "2         0        1          0          0              1            300000   \n",
       "3         0        1          0          1              0            258300   \n",
       "4         0        0          0          0              0            600000   \n",
       "..      ...      ...        ...        ...            ...               ...   \n",
       "609       1        0          0          0              0            290000   \n",
       "610       0        1         3+          0              0            410600   \n",
       "611       0        1          1          0              0            807200   \n",
       "612       0        1          2          0              0            758300   \n",
       "613       1        0          0          0              1            458300   \n",
       "\n",
       "     Coapplicant_Income  Loan_Amount   Term  Credit_History       Area Status  \n",
       "0                   0.0     15000000  360.0             1.0      Urban      Y  \n",
       "1              150800.0     12800000  360.0             1.0      Rural      N  \n",
       "2                   0.0      6600000  360.0             1.0      Urban      Y  \n",
       "3              235800.0     12000000  360.0             1.0      Urban      Y  \n",
       "4                   0.0     14100000  360.0             1.0      Urban      Y  \n",
       "..                  ...          ...    ...             ...        ...    ...  \n",
       "609                 0.0      7100000  360.0             1.0      Rural      Y  \n",
       "610                 0.0      4000000  180.0             1.0      Rural      Y  \n",
       "611             24000.0     25300000  360.0             1.0      Urban      Y  \n",
       "612                 0.0     18700000  360.0             1.0      Urban      Y  \n",
       "613                 0.0     13300000  360.0             0.0  Semiurban      N  \n",
       "\n",
       "[614 rows x 12 columns]"
      ]
     },
     "execution_count": 37,
     "metadata": {},
     "output_type": "execute_result"
    }
   ],
   "source": [
    "Self_Employed_unique = data['Self_Employed'].unique().tolist()\n",
    "print(Self_Employed_unique)\n",
    "Self_Employed_index = np.arange(0,len(Self_Employed_unique)+1,1)\n",
    "print(Self_Employed_index)\n",
    "Self_Employed_text_to_num = {i:j for i,j in zip(Self_Employed_unique,Self_Employed_index)}\n",
    "print(Self_Employed_text_to_num)\n",
    "Self_Employed_num_to_text ={j:i for j,i in zip(Self_Employed_unique,Self_Employed_index)}\n",
    "print(Self_Employed_num_to_text)\n",
    "data['Self_Employed'] = data['Self_Employed'].map(Self_Employed_text_to_num)\n",
    "data\n"
   ]
  },
  {
   "cell_type": "code",
   "execution_count": 38,
   "id": "cf3a7385",
   "metadata": {},
   "outputs": [
    {
     "name": "stdout",
     "output_type": "stream",
     "text": [
      "['Urban', 'Rural', 'Semiurban']\n",
      "[0 1 2 3]\n",
      "{'Urban': 0, 'Rural': 1, 'Semiurban': 2}\n",
      "{'Urban': 0, 'Rural': 1, 'Semiurban': 2}\n"
     ]
    },
    {
     "data": {
      "text/html": [
       "<div>\n",
       "<style scoped>\n",
       "    .dataframe tbody tr th:only-of-type {\n",
       "        vertical-align: middle;\n",
       "    }\n",
       "\n",
       "    .dataframe tbody tr th {\n",
       "        vertical-align: top;\n",
       "    }\n",
       "\n",
       "    .dataframe thead th {\n",
       "        text-align: right;\n",
       "    }\n",
       "</style>\n",
       "<table border=\"1\" class=\"dataframe\">\n",
       "  <thead>\n",
       "    <tr style=\"text-align: right;\">\n",
       "      <th></th>\n",
       "      <th>Gender</th>\n",
       "      <th>Married</th>\n",
       "      <th>Dependents</th>\n",
       "      <th>Education</th>\n",
       "      <th>Self_Employed</th>\n",
       "      <th>Applicant_Income</th>\n",
       "      <th>Coapplicant_Income</th>\n",
       "      <th>Loan_Amount</th>\n",
       "      <th>Term</th>\n",
       "      <th>Credit_History</th>\n",
       "      <th>Area</th>\n",
       "      <th>Status</th>\n",
       "    </tr>\n",
       "  </thead>\n",
       "  <tbody>\n",
       "    <tr>\n",
       "      <th>0</th>\n",
       "      <td>0</td>\n",
       "      <td>0</td>\n",
       "      <td>0</td>\n",
       "      <td>0</td>\n",
       "      <td>0</td>\n",
       "      <td>584900</td>\n",
       "      <td>0.0</td>\n",
       "      <td>15000000</td>\n",
       "      <td>360.0</td>\n",
       "      <td>1.0</td>\n",
       "      <td>0</td>\n",
       "      <td>Y</td>\n",
       "    </tr>\n",
       "    <tr>\n",
       "      <th>1</th>\n",
       "      <td>0</td>\n",
       "      <td>1</td>\n",
       "      <td>1</td>\n",
       "      <td>0</td>\n",
       "      <td>0</td>\n",
       "      <td>458300</td>\n",
       "      <td>150800.0</td>\n",
       "      <td>12800000</td>\n",
       "      <td>360.0</td>\n",
       "      <td>1.0</td>\n",
       "      <td>1</td>\n",
       "      <td>N</td>\n",
       "    </tr>\n",
       "    <tr>\n",
       "      <th>2</th>\n",
       "      <td>0</td>\n",
       "      <td>1</td>\n",
       "      <td>0</td>\n",
       "      <td>0</td>\n",
       "      <td>1</td>\n",
       "      <td>300000</td>\n",
       "      <td>0.0</td>\n",
       "      <td>6600000</td>\n",
       "      <td>360.0</td>\n",
       "      <td>1.0</td>\n",
       "      <td>0</td>\n",
       "      <td>Y</td>\n",
       "    </tr>\n",
       "    <tr>\n",
       "      <th>3</th>\n",
       "      <td>0</td>\n",
       "      <td>1</td>\n",
       "      <td>0</td>\n",
       "      <td>1</td>\n",
       "      <td>0</td>\n",
       "      <td>258300</td>\n",
       "      <td>235800.0</td>\n",
       "      <td>12000000</td>\n",
       "      <td>360.0</td>\n",
       "      <td>1.0</td>\n",
       "      <td>0</td>\n",
       "      <td>Y</td>\n",
       "    </tr>\n",
       "    <tr>\n",
       "      <th>4</th>\n",
       "      <td>0</td>\n",
       "      <td>0</td>\n",
       "      <td>0</td>\n",
       "      <td>0</td>\n",
       "      <td>0</td>\n",
       "      <td>600000</td>\n",
       "      <td>0.0</td>\n",
       "      <td>14100000</td>\n",
       "      <td>360.0</td>\n",
       "      <td>1.0</td>\n",
       "      <td>0</td>\n",
       "      <td>Y</td>\n",
       "    </tr>\n",
       "    <tr>\n",
       "      <th>...</th>\n",
       "      <td>...</td>\n",
       "      <td>...</td>\n",
       "      <td>...</td>\n",
       "      <td>...</td>\n",
       "      <td>...</td>\n",
       "      <td>...</td>\n",
       "      <td>...</td>\n",
       "      <td>...</td>\n",
       "      <td>...</td>\n",
       "      <td>...</td>\n",
       "      <td>...</td>\n",
       "      <td>...</td>\n",
       "    </tr>\n",
       "    <tr>\n",
       "      <th>609</th>\n",
       "      <td>1</td>\n",
       "      <td>0</td>\n",
       "      <td>0</td>\n",
       "      <td>0</td>\n",
       "      <td>0</td>\n",
       "      <td>290000</td>\n",
       "      <td>0.0</td>\n",
       "      <td>7100000</td>\n",
       "      <td>360.0</td>\n",
       "      <td>1.0</td>\n",
       "      <td>1</td>\n",
       "      <td>Y</td>\n",
       "    </tr>\n",
       "    <tr>\n",
       "      <th>610</th>\n",
       "      <td>0</td>\n",
       "      <td>1</td>\n",
       "      <td>3+</td>\n",
       "      <td>0</td>\n",
       "      <td>0</td>\n",
       "      <td>410600</td>\n",
       "      <td>0.0</td>\n",
       "      <td>4000000</td>\n",
       "      <td>180.0</td>\n",
       "      <td>1.0</td>\n",
       "      <td>1</td>\n",
       "      <td>Y</td>\n",
       "    </tr>\n",
       "    <tr>\n",
       "      <th>611</th>\n",
       "      <td>0</td>\n",
       "      <td>1</td>\n",
       "      <td>1</td>\n",
       "      <td>0</td>\n",
       "      <td>0</td>\n",
       "      <td>807200</td>\n",
       "      <td>24000.0</td>\n",
       "      <td>25300000</td>\n",
       "      <td>360.0</td>\n",
       "      <td>1.0</td>\n",
       "      <td>0</td>\n",
       "      <td>Y</td>\n",
       "    </tr>\n",
       "    <tr>\n",
       "      <th>612</th>\n",
       "      <td>0</td>\n",
       "      <td>1</td>\n",
       "      <td>2</td>\n",
       "      <td>0</td>\n",
       "      <td>0</td>\n",
       "      <td>758300</td>\n",
       "      <td>0.0</td>\n",
       "      <td>18700000</td>\n",
       "      <td>360.0</td>\n",
       "      <td>1.0</td>\n",
       "      <td>0</td>\n",
       "      <td>Y</td>\n",
       "    </tr>\n",
       "    <tr>\n",
       "      <th>613</th>\n",
       "      <td>1</td>\n",
       "      <td>0</td>\n",
       "      <td>0</td>\n",
       "      <td>0</td>\n",
       "      <td>1</td>\n",
       "      <td>458300</td>\n",
       "      <td>0.0</td>\n",
       "      <td>13300000</td>\n",
       "      <td>360.0</td>\n",
       "      <td>0.0</td>\n",
       "      <td>2</td>\n",
       "      <td>N</td>\n",
       "    </tr>\n",
       "  </tbody>\n",
       "</table>\n",
       "<p>614 rows × 12 columns</p>\n",
       "</div>"
      ],
      "text/plain": [
       "     Gender  Married Dependents  Education  Self_Employed  Applicant_Income  \\\n",
       "0         0        0          0          0              0            584900   \n",
       "1         0        1          1          0              0            458300   \n",
       "2         0        1          0          0              1            300000   \n",
       "3         0        1          0          1              0            258300   \n",
       "4         0        0          0          0              0            600000   \n",
       "..      ...      ...        ...        ...            ...               ...   \n",
       "609       1        0          0          0              0            290000   \n",
       "610       0        1         3+          0              0            410600   \n",
       "611       0        1          1          0              0            807200   \n",
       "612       0        1          2          0              0            758300   \n",
       "613       1        0          0          0              1            458300   \n",
       "\n",
       "     Coapplicant_Income  Loan_Amount   Term  Credit_History  Area Status  \n",
       "0                   0.0     15000000  360.0             1.0     0      Y  \n",
       "1              150800.0     12800000  360.0             1.0     1      N  \n",
       "2                   0.0      6600000  360.0             1.0     0      Y  \n",
       "3              235800.0     12000000  360.0             1.0     0      Y  \n",
       "4                   0.0     14100000  360.0             1.0     0      Y  \n",
       "..                  ...          ...    ...             ...   ...    ...  \n",
       "609                 0.0      7100000  360.0             1.0     1      Y  \n",
       "610                 0.0      4000000  180.0             1.0     1      Y  \n",
       "611             24000.0     25300000  360.0             1.0     0      Y  \n",
       "612                 0.0     18700000  360.0             1.0     0      Y  \n",
       "613                 0.0     13300000  360.0             0.0     2      N  \n",
       "\n",
       "[614 rows x 12 columns]"
      ]
     },
     "execution_count": 38,
     "metadata": {},
     "output_type": "execute_result"
    }
   ],
   "source": [
    "Area_unique = data['Area'].unique().tolist()\n",
    "print(Area_unique)\n",
    "Area_index = np.arange(0,len(Area_unique)+1,1)\n",
    "print(Area_index)\n",
    "Area_text_to_num = {i:j for i,j in zip(Area_unique,Area_index)}\n",
    "print(Area_text_to_num)\n",
    "Area_num_to_text ={j:i for j,i in zip(Area_unique,Area_index)}\n",
    "print(Area_num_to_text)\n",
    "data['Area'] = data['Area'].map(Area_text_to_num)\n",
    "data\n"
   ]
  },
  {
   "cell_type": "code",
   "execution_count": 39,
   "id": "8f5d5792",
   "metadata": {},
   "outputs": [
    {
     "data": {
      "text/html": [
       "<div>\n",
       "<style scoped>\n",
       "    .dataframe tbody tr th:only-of-type {\n",
       "        vertical-align: middle;\n",
       "    }\n",
       "\n",
       "    .dataframe tbody tr th {\n",
       "        vertical-align: top;\n",
       "    }\n",
       "\n",
       "    .dataframe thead th {\n",
       "        text-align: right;\n",
       "    }\n",
       "</style>\n",
       "<table border=\"1\" class=\"dataframe\">\n",
       "  <thead>\n",
       "    <tr style=\"text-align: right;\">\n",
       "      <th></th>\n",
       "      <th>Gender</th>\n",
       "      <th>Married</th>\n",
       "      <th>Dependents</th>\n",
       "      <th>Education</th>\n",
       "      <th>Self_Employed</th>\n",
       "      <th>Applicant_Income</th>\n",
       "      <th>Coapplicant_Income</th>\n",
       "      <th>Loan_Amount</th>\n",
       "      <th>Term</th>\n",
       "      <th>Credit_History</th>\n",
       "      <th>Area</th>\n",
       "      <th>Status</th>\n",
       "    </tr>\n",
       "  </thead>\n",
       "  <tbody>\n",
       "    <tr>\n",
       "      <th>0</th>\n",
       "      <td>0</td>\n",
       "      <td>0</td>\n",
       "      <td>0</td>\n",
       "      <td>0</td>\n",
       "      <td>0</td>\n",
       "      <td>584900</td>\n",
       "      <td>0.0</td>\n",
       "      <td>15000000</td>\n",
       "      <td>360.0</td>\n",
       "      <td>1.0</td>\n",
       "      <td>0</td>\n",
       "      <td>Y</td>\n",
       "    </tr>\n",
       "    <tr>\n",
       "      <th>1</th>\n",
       "      <td>0</td>\n",
       "      <td>1</td>\n",
       "      <td>1</td>\n",
       "      <td>0</td>\n",
       "      <td>0</td>\n",
       "      <td>458300</td>\n",
       "      <td>150800.0</td>\n",
       "      <td>12800000</td>\n",
       "      <td>360.0</td>\n",
       "      <td>1.0</td>\n",
       "      <td>1</td>\n",
       "      <td>N</td>\n",
       "    </tr>\n",
       "    <tr>\n",
       "      <th>2</th>\n",
       "      <td>0</td>\n",
       "      <td>1</td>\n",
       "      <td>0</td>\n",
       "      <td>0</td>\n",
       "      <td>1</td>\n",
       "      <td>300000</td>\n",
       "      <td>0.0</td>\n",
       "      <td>6600000</td>\n",
       "      <td>360.0</td>\n",
       "      <td>1.0</td>\n",
       "      <td>0</td>\n",
       "      <td>Y</td>\n",
       "    </tr>\n",
       "    <tr>\n",
       "      <th>3</th>\n",
       "      <td>0</td>\n",
       "      <td>1</td>\n",
       "      <td>0</td>\n",
       "      <td>1</td>\n",
       "      <td>0</td>\n",
       "      <td>258300</td>\n",
       "      <td>235800.0</td>\n",
       "      <td>12000000</td>\n",
       "      <td>360.0</td>\n",
       "      <td>1.0</td>\n",
       "      <td>0</td>\n",
       "      <td>Y</td>\n",
       "    </tr>\n",
       "    <tr>\n",
       "      <th>4</th>\n",
       "      <td>0</td>\n",
       "      <td>0</td>\n",
       "      <td>0</td>\n",
       "      <td>0</td>\n",
       "      <td>0</td>\n",
       "      <td>600000</td>\n",
       "      <td>0.0</td>\n",
       "      <td>14100000</td>\n",
       "      <td>360.0</td>\n",
       "      <td>1.0</td>\n",
       "      <td>0</td>\n",
       "      <td>Y</td>\n",
       "    </tr>\n",
       "    <tr>\n",
       "      <th>...</th>\n",
       "      <td>...</td>\n",
       "      <td>...</td>\n",
       "      <td>...</td>\n",
       "      <td>...</td>\n",
       "      <td>...</td>\n",
       "      <td>...</td>\n",
       "      <td>...</td>\n",
       "      <td>...</td>\n",
       "      <td>...</td>\n",
       "      <td>...</td>\n",
       "      <td>...</td>\n",
       "      <td>...</td>\n",
       "    </tr>\n",
       "    <tr>\n",
       "      <th>609</th>\n",
       "      <td>1</td>\n",
       "      <td>0</td>\n",
       "      <td>0</td>\n",
       "      <td>0</td>\n",
       "      <td>0</td>\n",
       "      <td>290000</td>\n",
       "      <td>0.0</td>\n",
       "      <td>7100000</td>\n",
       "      <td>360.0</td>\n",
       "      <td>1.0</td>\n",
       "      <td>1</td>\n",
       "      <td>Y</td>\n",
       "    </tr>\n",
       "    <tr>\n",
       "      <th>610</th>\n",
       "      <td>0</td>\n",
       "      <td>1</td>\n",
       "      <td>3+</td>\n",
       "      <td>0</td>\n",
       "      <td>0</td>\n",
       "      <td>410600</td>\n",
       "      <td>0.0</td>\n",
       "      <td>4000000</td>\n",
       "      <td>180.0</td>\n",
       "      <td>1.0</td>\n",
       "      <td>1</td>\n",
       "      <td>Y</td>\n",
       "    </tr>\n",
       "    <tr>\n",
       "      <th>611</th>\n",
       "      <td>0</td>\n",
       "      <td>1</td>\n",
       "      <td>1</td>\n",
       "      <td>0</td>\n",
       "      <td>0</td>\n",
       "      <td>807200</td>\n",
       "      <td>24000.0</td>\n",
       "      <td>25300000</td>\n",
       "      <td>360.0</td>\n",
       "      <td>1.0</td>\n",
       "      <td>0</td>\n",
       "      <td>Y</td>\n",
       "    </tr>\n",
       "    <tr>\n",
       "      <th>612</th>\n",
       "      <td>0</td>\n",
       "      <td>1</td>\n",
       "      <td>2</td>\n",
       "      <td>0</td>\n",
       "      <td>0</td>\n",
       "      <td>758300</td>\n",
       "      <td>0.0</td>\n",
       "      <td>18700000</td>\n",
       "      <td>360.0</td>\n",
       "      <td>1.0</td>\n",
       "      <td>0</td>\n",
       "      <td>Y</td>\n",
       "    </tr>\n",
       "    <tr>\n",
       "      <th>613</th>\n",
       "      <td>1</td>\n",
       "      <td>0</td>\n",
       "      <td>0</td>\n",
       "      <td>0</td>\n",
       "      <td>1</td>\n",
       "      <td>458300</td>\n",
       "      <td>0.0</td>\n",
       "      <td>13300000</td>\n",
       "      <td>360.0</td>\n",
       "      <td>0.0</td>\n",
       "      <td>2</td>\n",
       "      <td>N</td>\n",
       "    </tr>\n",
       "  </tbody>\n",
       "</table>\n",
       "<p>614 rows × 12 columns</p>\n",
       "</div>"
      ],
      "text/plain": [
       "     Gender  Married Dependents  Education  Self_Employed  Applicant_Income  \\\n",
       "0         0        0          0          0              0            584900   \n",
       "1         0        1          1          0              0            458300   \n",
       "2         0        1          0          0              1            300000   \n",
       "3         0        1          0          1              0            258300   \n",
       "4         0        0          0          0              0            600000   \n",
       "..      ...      ...        ...        ...            ...               ...   \n",
       "609       1        0          0          0              0            290000   \n",
       "610       0        1         3+          0              0            410600   \n",
       "611       0        1          1          0              0            807200   \n",
       "612       0        1          2          0              0            758300   \n",
       "613       1        0          0          0              1            458300   \n",
       "\n",
       "     Coapplicant_Income  Loan_Amount   Term  Credit_History  Area Status  \n",
       "0                   0.0     15000000  360.0             1.0     0      Y  \n",
       "1              150800.0     12800000  360.0             1.0     1      N  \n",
       "2                   0.0      6600000  360.0             1.0     0      Y  \n",
       "3              235800.0     12000000  360.0             1.0     0      Y  \n",
       "4                   0.0     14100000  360.0             1.0     0      Y  \n",
       "..                  ...          ...    ...             ...   ...    ...  \n",
       "609                 0.0      7100000  360.0             1.0     1      Y  \n",
       "610                 0.0      4000000  180.0             1.0     1      Y  \n",
       "611             24000.0     25300000  360.0             1.0     0      Y  \n",
       "612                 0.0     18700000  360.0             1.0     0      Y  \n",
       "613                 0.0     13300000  360.0             0.0     2      N  \n",
       "\n",
       "[614 rows x 12 columns]"
      ]
     },
     "execution_count": 39,
     "metadata": {},
     "output_type": "execute_result"
    }
   ],
   "source": [
    "\n",
    "data"
   ]
  },
  {
   "cell_type": "code",
   "execution_count": 40,
   "id": "6e28e9e5",
   "metadata": {},
   "outputs": [
    {
     "name": "stdout",
     "output_type": "stream",
     "text": [
      "['0', '1', '2', '3+', 0]\n",
      "[0 1 2 3 4 5]\n",
      "{'0': 0, '1': 1, '2': 2, '3+': 3, 0: 4}\n",
      "{'0': 0, '1': 1, '2': 2, '3+': 3, 0: 4}\n"
     ]
    },
    {
     "data": {
      "text/html": [
       "<div>\n",
       "<style scoped>\n",
       "    .dataframe tbody tr th:only-of-type {\n",
       "        vertical-align: middle;\n",
       "    }\n",
       "\n",
       "    .dataframe tbody tr th {\n",
       "        vertical-align: top;\n",
       "    }\n",
       "\n",
       "    .dataframe thead th {\n",
       "        text-align: right;\n",
       "    }\n",
       "</style>\n",
       "<table border=\"1\" class=\"dataframe\">\n",
       "  <thead>\n",
       "    <tr style=\"text-align: right;\">\n",
       "      <th></th>\n",
       "      <th>Gender</th>\n",
       "      <th>Married</th>\n",
       "      <th>Dependents</th>\n",
       "      <th>Education</th>\n",
       "      <th>Self_Employed</th>\n",
       "      <th>Applicant_Income</th>\n",
       "      <th>Coapplicant_Income</th>\n",
       "      <th>Loan_Amount</th>\n",
       "      <th>Term</th>\n",
       "      <th>Credit_History</th>\n",
       "      <th>Area</th>\n",
       "      <th>Status</th>\n",
       "    </tr>\n",
       "  </thead>\n",
       "  <tbody>\n",
       "    <tr>\n",
       "      <th>0</th>\n",
       "      <td>0</td>\n",
       "      <td>0</td>\n",
       "      <td>0</td>\n",
       "      <td>0</td>\n",
       "      <td>0</td>\n",
       "      <td>584900</td>\n",
       "      <td>0.0</td>\n",
       "      <td>15000000</td>\n",
       "      <td>360.0</td>\n",
       "      <td>1.0</td>\n",
       "      <td>0</td>\n",
       "      <td>Y</td>\n",
       "    </tr>\n",
       "    <tr>\n",
       "      <th>1</th>\n",
       "      <td>0</td>\n",
       "      <td>1</td>\n",
       "      <td>1</td>\n",
       "      <td>0</td>\n",
       "      <td>0</td>\n",
       "      <td>458300</td>\n",
       "      <td>150800.0</td>\n",
       "      <td>12800000</td>\n",
       "      <td>360.0</td>\n",
       "      <td>1.0</td>\n",
       "      <td>1</td>\n",
       "      <td>N</td>\n",
       "    </tr>\n",
       "    <tr>\n",
       "      <th>2</th>\n",
       "      <td>0</td>\n",
       "      <td>1</td>\n",
       "      <td>0</td>\n",
       "      <td>0</td>\n",
       "      <td>1</td>\n",
       "      <td>300000</td>\n",
       "      <td>0.0</td>\n",
       "      <td>6600000</td>\n",
       "      <td>360.0</td>\n",
       "      <td>1.0</td>\n",
       "      <td>0</td>\n",
       "      <td>Y</td>\n",
       "    </tr>\n",
       "    <tr>\n",
       "      <th>3</th>\n",
       "      <td>0</td>\n",
       "      <td>1</td>\n",
       "      <td>0</td>\n",
       "      <td>1</td>\n",
       "      <td>0</td>\n",
       "      <td>258300</td>\n",
       "      <td>235800.0</td>\n",
       "      <td>12000000</td>\n",
       "      <td>360.0</td>\n",
       "      <td>1.0</td>\n",
       "      <td>0</td>\n",
       "      <td>Y</td>\n",
       "    </tr>\n",
       "    <tr>\n",
       "      <th>4</th>\n",
       "      <td>0</td>\n",
       "      <td>0</td>\n",
       "      <td>0</td>\n",
       "      <td>0</td>\n",
       "      <td>0</td>\n",
       "      <td>600000</td>\n",
       "      <td>0.0</td>\n",
       "      <td>14100000</td>\n",
       "      <td>360.0</td>\n",
       "      <td>1.0</td>\n",
       "      <td>0</td>\n",
       "      <td>Y</td>\n",
       "    </tr>\n",
       "    <tr>\n",
       "      <th>...</th>\n",
       "      <td>...</td>\n",
       "      <td>...</td>\n",
       "      <td>...</td>\n",
       "      <td>...</td>\n",
       "      <td>...</td>\n",
       "      <td>...</td>\n",
       "      <td>...</td>\n",
       "      <td>...</td>\n",
       "      <td>...</td>\n",
       "      <td>...</td>\n",
       "      <td>...</td>\n",
       "      <td>...</td>\n",
       "    </tr>\n",
       "    <tr>\n",
       "      <th>609</th>\n",
       "      <td>1</td>\n",
       "      <td>0</td>\n",
       "      <td>0</td>\n",
       "      <td>0</td>\n",
       "      <td>0</td>\n",
       "      <td>290000</td>\n",
       "      <td>0.0</td>\n",
       "      <td>7100000</td>\n",
       "      <td>360.0</td>\n",
       "      <td>1.0</td>\n",
       "      <td>1</td>\n",
       "      <td>Y</td>\n",
       "    </tr>\n",
       "    <tr>\n",
       "      <th>610</th>\n",
       "      <td>0</td>\n",
       "      <td>1</td>\n",
       "      <td>3</td>\n",
       "      <td>0</td>\n",
       "      <td>0</td>\n",
       "      <td>410600</td>\n",
       "      <td>0.0</td>\n",
       "      <td>4000000</td>\n",
       "      <td>180.0</td>\n",
       "      <td>1.0</td>\n",
       "      <td>1</td>\n",
       "      <td>Y</td>\n",
       "    </tr>\n",
       "    <tr>\n",
       "      <th>611</th>\n",
       "      <td>0</td>\n",
       "      <td>1</td>\n",
       "      <td>1</td>\n",
       "      <td>0</td>\n",
       "      <td>0</td>\n",
       "      <td>807200</td>\n",
       "      <td>24000.0</td>\n",
       "      <td>25300000</td>\n",
       "      <td>360.0</td>\n",
       "      <td>1.0</td>\n",
       "      <td>0</td>\n",
       "      <td>Y</td>\n",
       "    </tr>\n",
       "    <tr>\n",
       "      <th>612</th>\n",
       "      <td>0</td>\n",
       "      <td>1</td>\n",
       "      <td>2</td>\n",
       "      <td>0</td>\n",
       "      <td>0</td>\n",
       "      <td>758300</td>\n",
       "      <td>0.0</td>\n",
       "      <td>18700000</td>\n",
       "      <td>360.0</td>\n",
       "      <td>1.0</td>\n",
       "      <td>0</td>\n",
       "      <td>Y</td>\n",
       "    </tr>\n",
       "    <tr>\n",
       "      <th>613</th>\n",
       "      <td>1</td>\n",
       "      <td>0</td>\n",
       "      <td>0</td>\n",
       "      <td>0</td>\n",
       "      <td>1</td>\n",
       "      <td>458300</td>\n",
       "      <td>0.0</td>\n",
       "      <td>13300000</td>\n",
       "      <td>360.0</td>\n",
       "      <td>0.0</td>\n",
       "      <td>2</td>\n",
       "      <td>N</td>\n",
       "    </tr>\n",
       "  </tbody>\n",
       "</table>\n",
       "<p>614 rows × 12 columns</p>\n",
       "</div>"
      ],
      "text/plain": [
       "     Gender  Married  Dependents  Education  Self_Employed  Applicant_Income  \\\n",
       "0         0        0           0          0              0            584900   \n",
       "1         0        1           1          0              0            458300   \n",
       "2         0        1           0          0              1            300000   \n",
       "3         0        1           0          1              0            258300   \n",
       "4         0        0           0          0              0            600000   \n",
       "..      ...      ...         ...        ...            ...               ...   \n",
       "609       1        0           0          0              0            290000   \n",
       "610       0        1           3          0              0            410600   \n",
       "611       0        1           1          0              0            807200   \n",
       "612       0        1           2          0              0            758300   \n",
       "613       1        0           0          0              1            458300   \n",
       "\n",
       "     Coapplicant_Income  Loan_Amount   Term  Credit_History  Area Status  \n",
       "0                   0.0     15000000  360.0             1.0     0      Y  \n",
       "1              150800.0     12800000  360.0             1.0     1      N  \n",
       "2                   0.0      6600000  360.0             1.0     0      Y  \n",
       "3              235800.0     12000000  360.0             1.0     0      Y  \n",
       "4                   0.0     14100000  360.0             1.0     0      Y  \n",
       "..                  ...          ...    ...             ...   ...    ...  \n",
       "609                 0.0      7100000  360.0             1.0     1      Y  \n",
       "610                 0.0      4000000  180.0             1.0     1      Y  \n",
       "611             24000.0     25300000  360.0             1.0     0      Y  \n",
       "612                 0.0     18700000  360.0             1.0     0      Y  \n",
       "613                 0.0     13300000  360.0             0.0     2      N  \n",
       "\n",
       "[614 rows x 12 columns]"
      ]
     },
     "execution_count": 40,
     "metadata": {},
     "output_type": "execute_result"
    }
   ],
   "source": [
    "Dependents_unique = data['Dependents'].unique().tolist()\n",
    "print(Dependents_unique)\n",
    "Dependents_index = np.arange(0,len(Dependents_unique)+1,1)\n",
    "print(Dependents_index)\n",
    "Dependents_text_to_num = {i:j for i,j in zip(Dependents_unique,Dependents_index)}\n",
    "print(Dependents_text_to_num)\n",
    "Dependents_num_to_text ={j:i for j,i in zip(Dependents_unique,Dependents_index)}\n",
    "print(Dependents_num_to_text)\n",
    "data['Dependents'] = data['Dependents'].map(Dependents_text_to_num)\n",
    "data\n"
   ]
  },
  {
   "cell_type": "code",
   "execution_count": 41,
   "id": "6894f853",
   "metadata": {},
   "outputs": [
    {
     "name": "stdout",
     "output_type": "stream",
     "text": [
      "['Y', 'N']\n",
      "[0 1 2]\n",
      "{'Y': 0, 'N': 1}\n",
      "{'Y': 0, 'N': 1}\n"
     ]
    },
    {
     "data": {
      "text/html": [
       "<div>\n",
       "<style scoped>\n",
       "    .dataframe tbody tr th:only-of-type {\n",
       "        vertical-align: middle;\n",
       "    }\n",
       "\n",
       "    .dataframe tbody tr th {\n",
       "        vertical-align: top;\n",
       "    }\n",
       "\n",
       "    .dataframe thead th {\n",
       "        text-align: right;\n",
       "    }\n",
       "</style>\n",
       "<table border=\"1\" class=\"dataframe\">\n",
       "  <thead>\n",
       "    <tr style=\"text-align: right;\">\n",
       "      <th></th>\n",
       "      <th>Gender</th>\n",
       "      <th>Married</th>\n",
       "      <th>Dependents</th>\n",
       "      <th>Education</th>\n",
       "      <th>Self_Employed</th>\n",
       "      <th>Applicant_Income</th>\n",
       "      <th>Coapplicant_Income</th>\n",
       "      <th>Loan_Amount</th>\n",
       "      <th>Term</th>\n",
       "      <th>Credit_History</th>\n",
       "      <th>Area</th>\n",
       "      <th>Status</th>\n",
       "    </tr>\n",
       "  </thead>\n",
       "  <tbody>\n",
       "    <tr>\n",
       "      <th>0</th>\n",
       "      <td>0</td>\n",
       "      <td>0</td>\n",
       "      <td>0</td>\n",
       "      <td>0</td>\n",
       "      <td>0</td>\n",
       "      <td>584900</td>\n",
       "      <td>0.0</td>\n",
       "      <td>15000000</td>\n",
       "      <td>360.0</td>\n",
       "      <td>1.0</td>\n",
       "      <td>0</td>\n",
       "      <td>0</td>\n",
       "    </tr>\n",
       "    <tr>\n",
       "      <th>1</th>\n",
       "      <td>0</td>\n",
       "      <td>1</td>\n",
       "      <td>1</td>\n",
       "      <td>0</td>\n",
       "      <td>0</td>\n",
       "      <td>458300</td>\n",
       "      <td>150800.0</td>\n",
       "      <td>12800000</td>\n",
       "      <td>360.0</td>\n",
       "      <td>1.0</td>\n",
       "      <td>1</td>\n",
       "      <td>1</td>\n",
       "    </tr>\n",
       "    <tr>\n",
       "      <th>2</th>\n",
       "      <td>0</td>\n",
       "      <td>1</td>\n",
       "      <td>0</td>\n",
       "      <td>0</td>\n",
       "      <td>1</td>\n",
       "      <td>300000</td>\n",
       "      <td>0.0</td>\n",
       "      <td>6600000</td>\n",
       "      <td>360.0</td>\n",
       "      <td>1.0</td>\n",
       "      <td>0</td>\n",
       "      <td>0</td>\n",
       "    </tr>\n",
       "    <tr>\n",
       "      <th>3</th>\n",
       "      <td>0</td>\n",
       "      <td>1</td>\n",
       "      <td>0</td>\n",
       "      <td>1</td>\n",
       "      <td>0</td>\n",
       "      <td>258300</td>\n",
       "      <td>235800.0</td>\n",
       "      <td>12000000</td>\n",
       "      <td>360.0</td>\n",
       "      <td>1.0</td>\n",
       "      <td>0</td>\n",
       "      <td>0</td>\n",
       "    </tr>\n",
       "    <tr>\n",
       "      <th>4</th>\n",
       "      <td>0</td>\n",
       "      <td>0</td>\n",
       "      <td>0</td>\n",
       "      <td>0</td>\n",
       "      <td>0</td>\n",
       "      <td>600000</td>\n",
       "      <td>0.0</td>\n",
       "      <td>14100000</td>\n",
       "      <td>360.0</td>\n",
       "      <td>1.0</td>\n",
       "      <td>0</td>\n",
       "      <td>0</td>\n",
       "    </tr>\n",
       "    <tr>\n",
       "      <th>...</th>\n",
       "      <td>...</td>\n",
       "      <td>...</td>\n",
       "      <td>...</td>\n",
       "      <td>...</td>\n",
       "      <td>...</td>\n",
       "      <td>...</td>\n",
       "      <td>...</td>\n",
       "      <td>...</td>\n",
       "      <td>...</td>\n",
       "      <td>...</td>\n",
       "      <td>...</td>\n",
       "      <td>...</td>\n",
       "    </tr>\n",
       "    <tr>\n",
       "      <th>609</th>\n",
       "      <td>1</td>\n",
       "      <td>0</td>\n",
       "      <td>0</td>\n",
       "      <td>0</td>\n",
       "      <td>0</td>\n",
       "      <td>290000</td>\n",
       "      <td>0.0</td>\n",
       "      <td>7100000</td>\n",
       "      <td>360.0</td>\n",
       "      <td>1.0</td>\n",
       "      <td>1</td>\n",
       "      <td>0</td>\n",
       "    </tr>\n",
       "    <tr>\n",
       "      <th>610</th>\n",
       "      <td>0</td>\n",
       "      <td>1</td>\n",
       "      <td>3</td>\n",
       "      <td>0</td>\n",
       "      <td>0</td>\n",
       "      <td>410600</td>\n",
       "      <td>0.0</td>\n",
       "      <td>4000000</td>\n",
       "      <td>180.0</td>\n",
       "      <td>1.0</td>\n",
       "      <td>1</td>\n",
       "      <td>0</td>\n",
       "    </tr>\n",
       "    <tr>\n",
       "      <th>611</th>\n",
       "      <td>0</td>\n",
       "      <td>1</td>\n",
       "      <td>1</td>\n",
       "      <td>0</td>\n",
       "      <td>0</td>\n",
       "      <td>807200</td>\n",
       "      <td>24000.0</td>\n",
       "      <td>25300000</td>\n",
       "      <td>360.0</td>\n",
       "      <td>1.0</td>\n",
       "      <td>0</td>\n",
       "      <td>0</td>\n",
       "    </tr>\n",
       "    <tr>\n",
       "      <th>612</th>\n",
       "      <td>0</td>\n",
       "      <td>1</td>\n",
       "      <td>2</td>\n",
       "      <td>0</td>\n",
       "      <td>0</td>\n",
       "      <td>758300</td>\n",
       "      <td>0.0</td>\n",
       "      <td>18700000</td>\n",
       "      <td>360.0</td>\n",
       "      <td>1.0</td>\n",
       "      <td>0</td>\n",
       "      <td>0</td>\n",
       "    </tr>\n",
       "    <tr>\n",
       "      <th>613</th>\n",
       "      <td>1</td>\n",
       "      <td>0</td>\n",
       "      <td>0</td>\n",
       "      <td>0</td>\n",
       "      <td>1</td>\n",
       "      <td>458300</td>\n",
       "      <td>0.0</td>\n",
       "      <td>13300000</td>\n",
       "      <td>360.0</td>\n",
       "      <td>0.0</td>\n",
       "      <td>2</td>\n",
       "      <td>1</td>\n",
       "    </tr>\n",
       "  </tbody>\n",
       "</table>\n",
       "<p>614 rows × 12 columns</p>\n",
       "</div>"
      ],
      "text/plain": [
       "     Gender  Married  Dependents  Education  Self_Employed  Applicant_Income  \\\n",
       "0         0        0           0          0              0            584900   \n",
       "1         0        1           1          0              0            458300   \n",
       "2         0        1           0          0              1            300000   \n",
       "3         0        1           0          1              0            258300   \n",
       "4         0        0           0          0              0            600000   \n",
       "..      ...      ...         ...        ...            ...               ...   \n",
       "609       1        0           0          0              0            290000   \n",
       "610       0        1           3          0              0            410600   \n",
       "611       0        1           1          0              0            807200   \n",
       "612       0        1           2          0              0            758300   \n",
       "613       1        0           0          0              1            458300   \n",
       "\n",
       "     Coapplicant_Income  Loan_Amount   Term  Credit_History  Area  Status  \n",
       "0                   0.0     15000000  360.0             1.0     0       0  \n",
       "1              150800.0     12800000  360.0             1.0     1       1  \n",
       "2                   0.0      6600000  360.0             1.0     0       0  \n",
       "3              235800.0     12000000  360.0             1.0     0       0  \n",
       "4                   0.0     14100000  360.0             1.0     0       0  \n",
       "..                  ...          ...    ...             ...   ...     ...  \n",
       "609                 0.0      7100000  360.0             1.0     1       0  \n",
       "610                 0.0      4000000  180.0             1.0     1       0  \n",
       "611             24000.0     25300000  360.0             1.0     0       0  \n",
       "612                 0.0     18700000  360.0             1.0     0       0  \n",
       "613                 0.0     13300000  360.0             0.0     2       1  \n",
       "\n",
       "[614 rows x 12 columns]"
      ]
     },
     "execution_count": 41,
     "metadata": {},
     "output_type": "execute_result"
    }
   ],
   "source": [
    "import numpy as np\n",
    "Status_unique = data['Status'].unique().tolist()\n",
    "print(Status_unique)\n",
    "Status_index = np.arange(0,len(Status_unique)+1,1)\n",
    "print(Status_index)\n",
    "Status_text_to_num = {i:j for i,j in zip(Status_unique,Status_index)}\n",
    "print(Status_text_to_num)\n",
    "Status_num_to_text ={j:i for j,i in zip(Status_unique,Status_index)}\n",
    "print(Status_num_to_text)\n",
    "data['Status'] = data['Status'].map(Status_text_to_num)\n",
    "data"
   ]
  },
  {
   "cell_type": "markdown",
   "id": "fe05a22b",
   "metadata": {},
   "source": [
    "\n",
    "\n",
    "## 2b. ADVANCE EDA"
   ]
  },
  {
   "cell_type": "code",
   "execution_count": 42,
   "id": "65aed491",
   "metadata": {},
   "outputs": [],
   "source": [
    "import pandas as pd\n",
    "import numpy as np\n",
    "import matplotlib.pyplot as plt\n",
    "import seaborn as sns"
   ]
  },
  {
   "cell_type": "markdown",
   "id": "c5d2d232",
   "metadata": {},
   "source": [
    "### LINEPLOT"
   ]
  },
  {
   "cell_type": "code",
   "execution_count": 43,
   "id": "c42acf3c",
   "metadata": {},
   "outputs": [
    {
     "data": {
      "image/png": "[encoded data removed]",
      "text/plain": [
       "<Figure size 640x480 with 1 Axes>"
      ]
     },
     "metadata": {},
     "output_type": "display_data"
    }
   ],
   "source": [
    "sns.lineplot(x='Dependents',y='Loan_Amount',data=data)#ploting\n",
    "plt.title(\"Dependents vs Loan_Amount plot using seaborn\")\n",
    "plt.grid() #displaying "
   ]
  },
  {
   "cell_type": "markdown",
   "id": "20b0923d",
   "metadata": {},
   "source": [
    "* The lowest value of **Dependents** is 0.0 and highest value is 4.0 and the range lies from 0.0 to 4.0.\n",
    "* The lowest value of **Loan_Amount** is 8000000 and highest value is 22000000 and the range lies from 8000000 to 2200000.\n",
    "* The lowest value of this line plot is 11000000 and peak value is 18000000.\n"
   ]
  },
  {
   "cell_type": "code",
   "execution_count": 42,
   "id": "c38f4216",
   "metadata": {},
   "outputs": [
    {
     "data": {
      "text/plain": [
       "<Axes: xlabel='Area', ylabel='Applicant_Income'>"
      ]
     },
     "execution_count": 42,
     "metadata": {},
     "output_type": "execute_result"
    },
    {
     "data": {
      "image/png": "[encoded data removed]",
      "text/plain": [
       "<Figure size 640x480 with 1 Axes>"
      ]
     },
     "metadata": {},
     "output_type": "display_data"
    }
   ],
   "source": [
    "sns.lineplot(x='Area',y='Applicant_Income',data=data)#ploting"
   ]
  },
  {
   "cell_type": "markdown",
   "id": "9ac3c5db",
   "metadata": {},
   "source": [
    "* The lowest value of **Area** is 0.00 and highest value is 2.00 and the range lies from 0.00 to 2.00.\n",
    "* The lowest income of **Applicant_Income** is 475000 and highest income is 650000 and the range lies from 475000 to 650000.\n",
    "* The lowest value of this line plot is 530000 and peak value is 560000.\n"
   ]
  },
  {
   "cell_type": "markdown",
   "id": "0ac6959a",
   "metadata": {},
   "source": [
    "### STRIPPLOT"
   ]
  },
  {
   "cell_type": "code",
   "execution_count": 42,
   "id": "406b863e",
   "metadata": {},
   "outputs": [
    {
     "data": {
      "image/png": "[encoded data removed]",
      "text/plain": [
       "<Figure size 640x480 with 1 Axes>"
      ]
     },
     "metadata": {},
     "output_type": "display_data"
    }
   ],
   "source": [
    "sns.stripplot(x='Dependents',y='Loan_Amount',data=data)#ploting\n",
    "plt.title(\"Dependents vs Loan_Amount plot using seaborn\")\n",
    "plt.grid() #displaying "
   ]
  },
  {
   "cell_type": "markdown",
   "id": "80637d22",
   "metadata": {},
   "source": [
    "* **0** has a range from 0 to 32000000 and has greater spread then 4 and has 6 outliers\n",
    "* **1** has a range from 0 to 39000000 and has greater spread then 4 and has 3 outliers\n",
    "* **2** has a range from 0 to 29000000 and has greater spread then 4 and has 3 outliers\n",
    "* **3** has a range from 0 to 38000000 and has greater spread then 4 and has 3 outliers\n",
    "* **4** has a range from 7500000 to 19000000 andhas smaller spread and has 1 outliers"
   ]
  },
  {
   "cell_type": "code",
   "execution_count": 47,
   "id": "24c24ff5",
   "metadata": {},
   "outputs": [
    {
     "data": {
      "image/png": "[encoded data removed]",
      "text/plain": [
       "<Figure size 640x480 with 1 Axes>"
      ]
     },
     "metadata": {},
     "output_type": "display_data"
    }
   ],
   "source": [
    "sns.stripplot(x='Area',y='Applicant_Income',data=data)#ploting\n",
    "plt.title(\"Area vs Applicant_Income plot using seaborn\")\n",
    "plt.grid() #displaying "
   ]
  },
  {
   "cell_type": "markdown",
   "id": "cccd5fb0",
   "metadata": {},
   "source": [
    "* **0** has a range from 0 to 2300000 and has smaller spread and has 2 outliers\n",
    "* **1** has a range from 0 to 2800000 and has smaller spread and has 1 outliers\n",
    "* **2** has a range from 0 to 2100000 and has smaller spread and has 4 outliers"
   ]
  },
  {
   "cell_type": "markdown",
   "id": "69902e6f",
   "metadata": {},
   "source": [
    "### BOXPLOT"
   ]
  },
  {
   "cell_type": "code",
   "execution_count": 43,
   "id": "dfe0d954",
   "metadata": {},
   "outputs": [
    {
     "data": {
      "image/png": "[encoded data removed]",
      "text/plain": [
       "<Figure size 640x480 with 1 Axes>"
      ]
     },
     "metadata": {},
     "output_type": "display_data"
    }
   ],
   "source": [
    "sns.boxplot(x='Dependents',y='Loan_Amount',data=data)#ploting\n",
    "plt.title(\"Dependents vs Loan_Amount plot using seaborn\")\n",
    "plt.grid() #displaying "
   ]
  },
  {
   "cell_type": "markdown",
   "id": "33cd5b5f",
   "metadata": {},
   "source": [
    "* **0** min_value is 1000000, max_value is 25000000, range is from 1000000 to 25000000 and median is 13000000\n",
    "* **1** min_value is 0, max_value is 28000000, range is from 0 to 28000000 and median is 15000000\n",
    "* **2** min_value is 0, max_value is 27000000, range is from 0 to 27000000 and median is 14500000\n",
    "* **3** min_value is 0, max_value is 25000000, range is from 0 to 25000000 and median is 13000000\n"
   ]
  },
  {
   "cell_type": "code",
   "execution_count": 46,
   "id": "e34e99e5",
   "metadata": {},
   "outputs": [
    {
     "data": {
      "image/png": "[encoded data removed]",
      "text/plain": [
       "<Figure size 640x480 with 1 Axes>"
      ]
     },
     "metadata": {},
     "output_type": "display_data"
    }
   ],
   "source": [
    "sns.boxplot(x='Area',y='Applicant_Income',data=data)#ploting\n",
    "plt.title(\"Area vs Applicant_Income plot using seaborn\")\n",
    "plt.grid() #displaying "
   ]
  },
  {
   "cell_type": "markdown",
   "id": "d490a932",
   "metadata": {},
   "source": [
    "* **0** min_value is 0, max_value is 1100000, range is from 0 to 1100000 and median is 400000\n",
    "* **1** min_value is 0, max_value is 1000000, range is from 0 to 1000000 and median is 500000\n",
    "* **2** min_value is 0, max_value is 800000, range is from 0 to 800000 and median is 400000\n"
   ]
  },
  {
   "cell_type": "markdown",
   "id": "23b5e722",
   "metadata": {},
   "source": [
    "### VIOLINPLOT"
   ]
  },
  {
   "cell_type": "code",
   "execution_count": 44,
   "id": "4e527a86",
   "metadata": {},
   "outputs": [
    {
     "data": {
      "image/png": "[encoded data removed]",
      "text/plain": [
       "<Figure size 640x480 with 1 Axes>"
      ]
     },
     "metadata": {},
     "output_type": "display_data"
    }
   ],
   "source": [
    "sns.violinplot(x='Dependents',y='Loan_Amount',data=data)#ploting\n",
    "plt.title(\"Dependents vs Loan_Amount plot using seaborn\")\n",
    "plt.grid() #displaying "
   ]
  },
  {
   "cell_type": "markdown",
   "id": "7d939717",
   "metadata": {},
   "source": [
    "* Majority of **0** has **Loan_Amount** around 16000000\n",
    "* Majority of **1** has **Loan_Amount** around 17000000\n",
    "* Majority of **2** has **Loan_Amount** around 16000000\n",
    "* Majority of **3** has **Loan_Amount** around 16000000\n",
    "* Majority of **4** has **Loan_Amount** around 17500000"
   ]
  },
  {
   "cell_type": "code",
   "execution_count": 45,
   "id": "1ecf4154",
   "metadata": {},
   "outputs": [
    {
     "data": {
      "image/png": "[encoded data removed]",
      "text/plain": [
       "<Figure size 640x480 with 1 Axes>"
      ]
     },
     "metadata": {},
     "output_type": "display_data"
    }
   ],
   "source": [
    "sns.violinplot(x='Area',y='Applicant_Income',data=data)#ploting\n",
    "plt.title(\"Area vs Applicant_Income plot using seaborn\")\n",
    "plt.grid() #displaying "
   ]
  },
  {
   "cell_type": "markdown",
   "id": "f3851b42",
   "metadata": {},
   "source": [
    "* Majority of **0** has **Applicant_Income** around 100000\n",
    "* Majority of **1** has **Applicant_Income** around 200000\n",
    "* Majority of **2** has **Applicant_Income** around 150000\n"
   ]
  },
  {
   "cell_type": "markdown",
   "id": "27a30c14",
   "metadata": {},
   "source": [
    "### DISTRIBUTION PLOT"
   ]
  },
  {
   "cell_type": "code",
   "execution_count": 77,
   "id": "f79fda4a",
   "metadata": {},
   "outputs": [
    {
     "name": "stderr",
     "output_type": "stream",
     "text": [
      "/opt/anaconda3/envs/main/lib/python3.9/site-packages/seaborn/axisgrid.py:118: UserWarning: The figure layout has changed to tight\n",
      "  self._figure.tight_layout(*args, **kwargs)\n"
     ]
    },
    {
     "data": {
      "image/png": "[encoded data removed]",
      "text/plain": [
       "<Figure size 500x500 with 1 Axes>"
      ]
     },
     "metadata": {},
     "output_type": "display_data"
    }
   ],
   "source": [
    "sns.displot(data['Area'])#plotting\n",
    "plt.title(\"Area plot using seaborn\")\n",
    "plt.grid() #displaying"
   ]
  },
  {
   "cell_type": "markdown",
   "id": "fce23dd7",
   "metadata": {},
   "source": [
    "* The lowest value of **Area** is 0.00 and highest value is 2.00 and the range lies from 0.00 to 2.00.\n",
    "* The lowest value of this **Distribution plot** is 175 and peak value is 240\n"
   ]
  },
  {
   "cell_type": "code",
   "execution_count": 78,
   "id": "ce249d58",
   "metadata": {},
   "outputs": [
    {
     "name": "stderr",
     "output_type": "stream",
     "text": [
      "/opt/anaconda3/envs/main/lib/python3.9/site-packages/seaborn/axisgrid.py:118: UserWarning: The figure layout has changed to tight\n",
      "  self._figure.tight_layout(*args, **kwargs)\n"
     ]
    },
    {
     "data": {
      "image/png": "[encoded data removed]",
      "text/plain": [
       "<Figure size 500x500 with 1 Axes>"
      ]
     },
     "metadata": {},
     "output_type": "display_data"
    }
   ],
   "source": [
    "sns.displot(data['Dependents'])#plotting\n",
    "plt.title(\"Dependents plot using seaborn\")\n",
    "plt.grid() #displaying"
   ]
  },
  {
   "cell_type": "markdown",
   "id": "526640c4",
   "metadata": {},
   "source": [
    "* The lowest value of **Dependents** is 0.0 and highest value is 4.0 and the range lies from 0.0 to 4.0.\n",
    "* The lowest value of this **Distribution plot** is 20 and peak value is 345\n"
   ]
  },
  {
   "cell_type": "markdown",
   "id": "f0ce1acb",
   "metadata": {},
   "source": [
    "\n",
    "\n",
    "# 2c. FEATURE SELECTION AND FEATURE ENGINEERING"
   ]
  },
  {
   "cell_type": "code",
   "execution_count": 44,
   "id": "5fbddb63",
   "metadata": {},
   "outputs": [
    {
     "name": "stdout",
     "output_type": "stream",
     "text": [
      "[INFO] data preprocessing completed\n"
     ]
    }
   ],
   "source": [
    "x=data.iloc[:,:-1].values\n",
    "y=data.iloc[:,-1].values\n",
    "\n",
    "## splitting data into training and testing partitions\n",
    "from sklearn.model_selection import train_test_split\n",
    "x_train,x_test,y_train,y_test=train_test_split(x,y,test_size=0.2)\n",
    "\n",
    "\n",
    "#scaling the data using standard scaling\n",
    "from sklearn.preprocessing import StandardScaler\n",
    "sc = StandardScaler()\n",
    "x_train_scaled = sc.fit_transform(x_train)# scaling x_train\n",
    "x_test_scaled = sc.transform(x_test)#scaling x_test\n",
    "\n",
    "print(\"[INFO] data preprocessing completed\")\n"
   ]
  },
  {
   "cell_type": "markdown",
   "id": "8972f072",
   "metadata": {},
   "source": [
    "## Gradient Boosting Classifier"
   ]
  },
  {
   "cell_type": "markdown",
   "id": "9f85ef81",
   "metadata": {},
   "source": [
    "# 3. MODEL TRAINING"
   ]
  },
  {
   "cell_type": "code",
   "execution_count": 45,
   "id": "909780b0",
   "metadata": {},
   "outputs": [
    {
     "name": "stdout",
     "output_type": "stream",
     "text": [
      "[INFO]model training completed\n"
     ]
    }
   ],
   "source": [
    "from sklearn.ensemble import GradientBoostingClassifier\n",
    "\n",
    "gbk = GradientBoostingClassifier()\n",
    "gbk.fit(x_train, y_train)\n",
    "print(\"[INFO]model training completed\")"
   ]
  },
  {
   "cell_type": "markdown",
   "id": "8c5a43a9",
   "metadata": {},
   "source": [
    "# 4. MODEL EVALUATION"
   ]
  },
  {
   "cell_type": "code",
   "execution_count": 46,
   "id": "262e468d",
   "metadata": {},
   "outputs": [
    {
     "name": "stdout",
     "output_type": "stream",
     "text": [
      "accuracy of given model is:0.8211382113821138\n",
      "precision of given model is:0.7777777777777778\n",
      "recall of given model is:0.5675675675675675\n",
      "f1 of given model is:0.65625\n"
     ]
    }
   ],
   "source": [
    "#making the model predict output for x_test\n",
    "y_predicted = gbk.predict(x_test)\n",
    "\n",
    "#taking actual value\n",
    "y_actual = y_test\n",
    "\n",
    "\n",
    "from sklearn.metrics import accuracy_score,precision_score,recall_score,f1_score\n",
    "import math\n",
    "\n",
    "accuracy = accuracy_score(y_actual,y_predicted)\n",
    "print(f\"accuracy of given model is:{accuracy}\")\n",
    "\n",
    "precision = precision_score(y_actual,y_predicted)\n",
    "print(f\"precision of given model is:{precision}\")\n",
    "\n",
    "recall = recall_score(y_actual,y_predicted)\n",
    "print(f\"recall of given model is:{recall}\")\n",
    "\n",
    "f1 = f1_score(y_actual,y_predicted)\n",
    "print(f\"f1 of given model is:{f1}\")\n",
    "\n"
   ]
  },
  {
   "cell_type": "markdown",
   "id": "16193c33",
   "metadata": {},
   "source": [
    "# 5. MODEL IMPLEMENTATION"
   ]
  },
  {
   "cell_type": "code",
   "execution_count": 47,
   "id": "55be1ac8",
   "metadata": {},
   "outputs": [
    {
     "name": "stdout",
     "output_type": "stream",
     "text": [
      "enter Gender :0\n",
      "enter Married :1\n",
      "enter Dependents :1\n",
      "enter Education :0\n",
      "enter Self_Employed:0\n",
      "enter Applicant_Income:458300\n",
      "enter Coapplicant_Income:150800.0\n",
      "enter Loan_Amount:12800000\n",
      "enter Term:360.0\n",
      "enter Credit_History:1.0\n",
      "enter Area:1\n",
      "Not eligible for loan\n"
     ]
    }
   ],
   "source": [
    "#USING THE MODEL TO PREDICT OUTPUT FOR NEW INPUT\n",
    "Gender = int(input(\"enter Gender :\"))\n",
    "Married = int(input(\"enter Married :\"))\n",
    "Dependents = int(input(\"enter Dependents :\"))\n",
    "Education = int(input(\"enter Education :\"))\n",
    "Self_Employed = int(input(\"enter Self_Employed:\"))\n",
    "Applicant_Income = float(input(\"enter Applicant_Income:\"))\n",
    "Coapplicant_Income = float(input(\"enter Coapplicant_Income:\"))\n",
    "Loan_Amount = float(input(\"enter Loan_Amount:\"))\n",
    "Term = float(input(\"enter Term:\"))\n",
    "Credit_History = float(input(\"enter Credit_History:\"))\n",
    "Area = int(input(\"enter Area:\"))\n",
    "\n",
    "#storing the user input in a 2-D array\n",
    "new_user_input = [[Gender, Married, Dependents, Education, Self_Employed, Applicant_Income, Coapplicant_Income, Loan_Amount, Term, Credit_History, Area]]\n",
    "\n",
    "#scling new user input\n",
    "new_user_input = sc.transform(new_user_input)\n",
    "\n",
    "#using model to pridect the output for new input\n",
    "new_output = gbk.predict(new_user_input)\n",
    "\n",
    "#output is a number, we will give answer in text\n",
    "if new_output[0] ==0:\n",
    "    print(\"Eligible for loan \")\n",
    "if new_output[0] ==1:\n",
    "    print(\"Not eligible for loan\")"
   ]
  },
  {
   "cell_type": "code",
   "execution_count": null,
   "id": "3099325d",
   "metadata": {},
   "outputs": [],
   "source": [
    "0\t0\t0\t0\t0\t584900\t0.0\t15000000\t360.0\t1.0\t0\t1\n",
    "0\t1\t1\t0\t0\t458300\t150800.0\t12800000\t360.0\t1.0\t1\t1\n"
   ]
  },
  {
   "cell_type": "markdown",
   "id": "73b18194",
   "metadata": {},
   "source": [
    "## Logistic Regression"
   ]
  },
  {
   "cell_type": "markdown",
   "id": "df25bc25",
   "metadata": {},
   "source": [
    "# 3. MODEL TRAINING"
   ]
  },
  {
   "cell_type": "code",
   "execution_count": 74,
   "id": "ddb1fcf0",
   "metadata": {},
   "outputs": [
    {
     "name": "stdout",
     "output_type": "stream",
     "text": [
      "[INFO] model training complete..\n"
     ]
    }
   ],
   "source": [
    "from sklearn.linear_model import LogisticRegression # importing algo\n",
    "Logreg_model = LogisticRegression(max_iter = 15000) # initialising the algo\n",
    "Logreg_model.fit(x_train,y_train) # traing the algo on traing partitions\n",
    "\n",
    "print(\"[INFO] model training complete..\")"
   ]
  },
  {
   "cell_type": "markdown",
   "id": "6aeab368",
   "metadata": {},
   "source": [
    "# 4. MODEL EVALUATION"
   ]
  },
  {
   "cell_type": "code",
   "execution_count": 75,
   "id": "abafb0ff",
   "metadata": {},
   "outputs": [
    {
     "name": "stdout",
     "output_type": "stream",
     "text": [
      "accuracy of given model is:0.6829268292682927\n",
      "precision of given model is:0.0\n",
      "recall of given model is:0.0\n",
      "f1 of given model is:0.0\n"
     ]
    },
    {
     "name": "stderr",
     "output_type": "stream",
     "text": [
      "/opt/anaconda3/envs/main/lib/python3.9/site-packages/sklearn/metrics/_classification.py:1469: UndefinedMetricWarning: Precision is ill-defined and being set to 0.0 due to no predicted samples. Use `zero_division` parameter to control this behavior.\n",
      "  _warn_prf(average, modifier, msg_start, len(result))\n"
     ]
    }
   ],
   "source": [
    "data_pda = pd.read_csv(\"/Users/vaishnavikhot/Downloads/card_transdata.csv\")\n",
    "#making the model predict output for x_test\n",
    "y_predicted = Logreg_model.predict(x_test)\n",
    "\n",
    "#taking actual value\n",
    "y_actual = y_test\n",
    "\n",
    "\n",
    "from sklearn.metrics import accuracy_score,precision_score,recall_score,f1_score\n",
    "import math\n",
    "\n",
    "accuracy = accuracy_score(y_actual,y_predicted)\n",
    "print(f\"accuracy of given model is:{accuracy}\")\n",
    "\n",
    "precision = precision_score(y_actual,y_predicted)\n",
    "print(f\"precision of given model is:{precision}\")\n",
    "\n",
    "recall = recall_score(y_actual,y_predicted)\n",
    "print(f\"recall of given model is:{recall}\")\n",
    "\n",
    "f1 = f1_score(y_actual,y_predicted)\n",
    "print(f\"f1 of given model is:{f1}\")\n",
    "\n"
   ]
  },
  {
   "cell_type": "markdown",
   "id": "de56ffd8",
   "metadata": {},
   "source": [
    "# 5. MODEL IMPLEMENTATION"
   ]
  },
  {
   "cell_type": "code",
   "execution_count": 76,
   "id": "c2e4028a",
   "metadata": {},
   "outputs": [
    {
     "name": "stdout",
     "output_type": "stream",
     "text": [
      "enter Gender :0\n",
      "enter Married :1\n",
      "enter Dependents :1\n",
      "enter Education :0\n",
      "enter Self_Employed:0\n",
      "enter Applicant_Income:458300\n",
      "enter Coapplicant_Income:150800.0\n",
      "enter Loan_Amount:12800000\n",
      "enter Term:360.0\n",
      "enter Credit_History:1.0\n",
      "enter Area:1\n",
      "Not eligible for loan\n"
     ]
    }
   ],
   "source": [
    "#USING THE MODEL TO PREDICT OUTPUT FOR NEW INPUT\n",
    "\n",
    "Gender = int(input(\"enter Gender :\"))\n",
    "Married = int(input(\"enter Married :\"))\n",
    "Dependents = int(input(\"enter Dependents :\"))\n",
    "Education = int(input(\"enter Education :\"))\n",
    "Self_Employed = int(input(\"enter Self_Employed:\"))\n",
    "Applicant_Income = float(input(\"enter Applicant_Income:\"))\n",
    "Coapplicant_Income = float(input(\"enter Coapplicant_Income:\"))\n",
    "Loan_Amount = float(input(\"enter Loan_Amount:\"))\n",
    "Term = float(input(\"enter Term:\"))\n",
    "Credit_History = float(input(\"enter Credit_History:\"))\n",
    "\n",
    "Area = int(input(\"enter Area:\"))\n",
    "\n",
    "\n",
    "#storing the user input in a 2-D array\n",
    "new_user_input = [[Gender, Married, Dependents, Education, Self_Employed, Applicant_Income, Coapplicant_Income, Loan_Amount, Term, Credit_History, Area\n",
    "]]\n",
    "\n",
    "#scling new user input\n",
    "new_user_input = sc.transform(new_user_input)\n",
    "\n",
    "\n",
    "#using model to pridect the output for new input\n",
    "new_output = Logreg_model.predict(new_user_input)\n",
    "\n",
    "#output is a number, we will give answer in text\n",
    "if new_output[0] ==0:\n",
    "    print(\"Eligible for loan \")\n",
    "if new_output[0] == 1:\n",
    "    print(\"Not eligible for loan\")\n"
   ]
  },
  {
   "cell_type": "code",
   "execution_count": null,
   "id": "e4e369f1",
   "metadata": {},
   "outputs": [],
   "source": [
    "0\t0\t0\t0\t0\t584900\t0.0\t15000000\t360.0\t1.0\t0\t1\n",
    "0\t1\t1\t0\t0\t458300\t150800.0\t12800000\t360.0\t1.0\t1\t1\n"
   ]
  }
 ],
 "metadata": {
  "kernelspec": {
   "display_name": "Python 3 (ipykernel)",
   "language": "python",
   "name": "python3"
  },
  "language_info": {
   "codemirror_mode": {
    "name": "ipython",
    "version": 3
   },
   "file_extension": ".py",
   "mimetype": "text/x-python",
   "name": "python",
   "nbconvert_exporter": "python",
   "pygments_lexer": "ipython3",
   "version": "3.9.17"
  }
 },
 "nbformat": 4,
 "nbformat_minor": 5
}
